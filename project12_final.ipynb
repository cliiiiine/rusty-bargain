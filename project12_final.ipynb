{
 "cells": [
  {
   "cell_type": "markdown",
   "metadata": {},
   "source": [
    "# Predictive Analytics for Used Car Pricing: Building Efficient Machine Learning Models"
   ]
  },
  {
   "cell_type": "markdown",
   "metadata": {},
   "source": [
    "## Introduction\n",
    "\n",
    "Rusty Bargain, a used car sales service, is developing an innovative app that enables users to quickly determine the market value of their vehicles. To support this initiative, we have access to a dataset containing historical car data, including technical specifications, trim versions, and prices. The goal of this project is to develop a machine learning model that accurately predicts a car’s market value based on these features.\n",
    "\n",
    "To meet Rusty Bargain’s requirements, the model must excel in three key areas:\n",
    "\n",
    "* Prediction Quality: The model should produce highly accurate price estimates.\n",
    "* Prediction Speed: The model must generate real-time or near-instantaneous predictions.\n",
    "* Training Efficiency: The model should be optimized for fast and efficient training.\n",
    "\n",
    "In this project, we will explore multiple machine learning approaches to determine the best-performing model. We will compare traditional methods like linear regression and decision trees against more advanced techniques like random forest and gradient boosting models (including LightGBM, CatBoost, and XGBoost). To assess model performance, we will use the Root Mean Squared Error (RMSE) metric.\n",
    "\n",
    "Additionally, we will analyze:\n",
    "\n",
    "* The impact of hyperparameter tuning on model accuracy and efficiency.\n",
    "* The encoding methods required for categorical features.\n",
    "* The runtime of various models to ensure optimal performance for the app.\n",
    "\n",
    "By the end of this project, we aim to identify the most effective model for Rusty Bargain’s app—one that balances accuracy, speed, and efficiency—ultimately providing a seamless experience for users looking to evaluate their cars."
   ]
  },
  {
   "cell_type": "markdown",
   "metadata": {},
   "source": [
    "This notebook requires the following Python libraries to run:\n",
    "\n",
    "* pandas – for data manipulation\n",
    "* numpy – for numerical operations\n",
    "* scikit-learn – for machine learning models\n",
    "* catboost – for CatBoost gradient boosting\n",
    "* xgboost – for XGBoost gradient boosting\n",
    "* lightgbm – for LightGBM gradient boosting"
   ]
  },
  {
   "cell_type": "markdown",
   "metadata": {},
   "source": [
    "Rusty Bargain used car sales service is developing an app to attract new customers. In that app, you can quickly find out the market value of your car. You have access to historical data: technical specifications, trim versions, and prices. You need to build the model to determine the value. \n",
    "\n",
    "Rusty Bargain is interested in:\n",
    "\n",
    "- the quality of the prediction;\n",
    "- the speed of the prediction;\n",
    "- the time required for training"
   ]
  },
  {
   "cell_type": "code",
   "execution_count": 1,
   "metadata": {},
   "outputs": [],
   "source": [
    "import pandas as pd\n",
    "import numpy as np\n",
    "import time\n",
    "import matplotlib.pyplot as plt\n",
    "import seaborn as sns\n",
    "from sklearn.feature_extraction import FeatureHasher\n",
    "from sklearn.model_selection import train_test_split, RandomizedSearchCV\n",
    "from sklearn.preprocessing import OrdinalEncoder, StandardScaler\n",
    "from sklearn.compose import ColumnTransformer\n",
    "from sklearn.preprocessing import OneHotEncoder\n",
    "from sklearn.linear_model import LinearRegression\n",
    "from sklearn.pipeline import Pipeline\n",
    "from sklearn.metrics import mean_squared_error\n",
    "from sklearn.ensemble import RandomForestRegressor\n",
    "from sklearn.tree import DecisionTreeRegressor\n",
    "from lightgbm import LGBMRegressor\n",
    "from catboost import CatBoostRegressor\n",
    "import xgboost as xgb"
   ]
  },
  {
   "cell_type": "code",
   "execution_count": 158,
   "metadata": {},
   "outputs": [],
   "source": [
    "df = pd.read_csv('/Users/keithrobinson/Desktop/TripleTen/Projects/project12/car_data.csv')"
   ]
  },
  {
   "cell_type": "markdown",
   "metadata": {},
   "source": [
    "## Data preparation"
   ]
  },
  {
   "cell_type": "code",
   "execution_count": 160,
   "metadata": {},
   "outputs": [
    {
     "data": {
      "text/html": [
       "<div>\n",
       "<style scoped>\n",
       "    .dataframe tbody tr th:only-of-type {\n",
       "        vertical-align: middle;\n",
       "    }\n",
       "\n",
       "    .dataframe tbody tr th {\n",
       "        vertical-align: top;\n",
       "    }\n",
       "\n",
       "    .dataframe thead th {\n",
       "        text-align: right;\n",
       "    }\n",
       "</style>\n",
       "<table border=\"1\" class=\"dataframe\">\n",
       "  <thead>\n",
       "    <tr style=\"text-align: right;\">\n",
       "      <th></th>\n",
       "      <th>DateCrawled</th>\n",
       "      <th>Price</th>\n",
       "      <th>VehicleType</th>\n",
       "      <th>RegistrationYear</th>\n",
       "      <th>Gearbox</th>\n",
       "      <th>Power</th>\n",
       "      <th>Model</th>\n",
       "      <th>Mileage</th>\n",
       "      <th>RegistrationMonth</th>\n",
       "      <th>FuelType</th>\n",
       "      <th>Brand</th>\n",
       "      <th>NotRepaired</th>\n",
       "      <th>DateCreated</th>\n",
       "      <th>NumberOfPictures</th>\n",
       "      <th>PostalCode</th>\n",
       "      <th>LastSeen</th>\n",
       "    </tr>\n",
       "  </thead>\n",
       "  <tbody>\n",
       "    <tr>\n",
       "      <th>0</th>\n",
       "      <td>24/03/2016 11:52</td>\n",
       "      <td>480</td>\n",
       "      <td>NaN</td>\n",
       "      <td>1993</td>\n",
       "      <td>manual</td>\n",
       "      <td>0</td>\n",
       "      <td>golf</td>\n",
       "      <td>150000</td>\n",
       "      <td>0</td>\n",
       "      <td>petrol</td>\n",
       "      <td>volkswagen</td>\n",
       "      <td>NaN</td>\n",
       "      <td>24/03/2016 00:00</td>\n",
       "      <td>0</td>\n",
       "      <td>70435</td>\n",
       "      <td>07/04/2016 03:16</td>\n",
       "    </tr>\n",
       "    <tr>\n",
       "      <th>1</th>\n",
       "      <td>24/03/2016 10:58</td>\n",
       "      <td>18300</td>\n",
       "      <td>coupe</td>\n",
       "      <td>2011</td>\n",
       "      <td>manual</td>\n",
       "      <td>190</td>\n",
       "      <td>NaN</td>\n",
       "      <td>125000</td>\n",
       "      <td>5</td>\n",
       "      <td>gasoline</td>\n",
       "      <td>audi</td>\n",
       "      <td>yes</td>\n",
       "      <td>24/03/2016 00:00</td>\n",
       "      <td>0</td>\n",
       "      <td>66954</td>\n",
       "      <td>07/04/2016 01:46</td>\n",
       "    </tr>\n",
       "    <tr>\n",
       "      <th>2</th>\n",
       "      <td>14/03/2016 12:52</td>\n",
       "      <td>9800</td>\n",
       "      <td>suv</td>\n",
       "      <td>2004</td>\n",
       "      <td>auto</td>\n",
       "      <td>163</td>\n",
       "      <td>grand</td>\n",
       "      <td>125000</td>\n",
       "      <td>8</td>\n",
       "      <td>gasoline</td>\n",
       "      <td>jeep</td>\n",
       "      <td>NaN</td>\n",
       "      <td>14/03/2016 00:00</td>\n",
       "      <td>0</td>\n",
       "      <td>90480</td>\n",
       "      <td>05/04/2016 12:47</td>\n",
       "    </tr>\n",
       "    <tr>\n",
       "      <th>3</th>\n",
       "      <td>17/03/2016 16:54</td>\n",
       "      <td>1500</td>\n",
       "      <td>small</td>\n",
       "      <td>2001</td>\n",
       "      <td>manual</td>\n",
       "      <td>75</td>\n",
       "      <td>golf</td>\n",
       "      <td>150000</td>\n",
       "      <td>6</td>\n",
       "      <td>petrol</td>\n",
       "      <td>volkswagen</td>\n",
       "      <td>no</td>\n",
       "      <td>17/03/2016 00:00</td>\n",
       "      <td>0</td>\n",
       "      <td>91074</td>\n",
       "      <td>17/03/2016 17:40</td>\n",
       "    </tr>\n",
       "    <tr>\n",
       "      <th>4</th>\n",
       "      <td>31/03/2016 17:25</td>\n",
       "      <td>3600</td>\n",
       "      <td>small</td>\n",
       "      <td>2008</td>\n",
       "      <td>manual</td>\n",
       "      <td>69</td>\n",
       "      <td>fabia</td>\n",
       "      <td>90000</td>\n",
       "      <td>7</td>\n",
       "      <td>gasoline</td>\n",
       "      <td>skoda</td>\n",
       "      <td>no</td>\n",
       "      <td>31/03/2016 00:00</td>\n",
       "      <td>0</td>\n",
       "      <td>60437</td>\n",
       "      <td>06/04/2016 10:17</td>\n",
       "    </tr>\n",
       "  </tbody>\n",
       "</table>\n",
       "</div>"
      ],
      "text/plain": [
       "        DateCrawled  Price VehicleType  RegistrationYear Gearbox  Power  \\\n",
       "0  24/03/2016 11:52    480         NaN              1993  manual      0   \n",
       "1  24/03/2016 10:58  18300       coupe              2011  manual    190   \n",
       "2  14/03/2016 12:52   9800         suv              2004    auto    163   \n",
       "3  17/03/2016 16:54   1500       small              2001  manual     75   \n",
       "4  31/03/2016 17:25   3600       small              2008  manual     69   \n",
       "\n",
       "   Model  Mileage  RegistrationMonth  FuelType       Brand NotRepaired  \\\n",
       "0   golf   150000                  0    petrol  volkswagen         NaN   \n",
       "1    NaN   125000                  5  gasoline        audi         yes   \n",
       "2  grand   125000                  8  gasoline        jeep         NaN   \n",
       "3   golf   150000                  6    petrol  volkswagen          no   \n",
       "4  fabia    90000                  7  gasoline       skoda          no   \n",
       "\n",
       "        DateCreated  NumberOfPictures  PostalCode          LastSeen  \n",
       "0  24/03/2016 00:00                 0       70435  07/04/2016 03:16  \n",
       "1  24/03/2016 00:00                 0       66954  07/04/2016 01:46  \n",
       "2  14/03/2016 00:00                 0       90480  05/04/2016 12:47  \n",
       "3  17/03/2016 00:00                 0       91074  17/03/2016 17:40  \n",
       "4  31/03/2016 00:00                 0       60437  06/04/2016 10:17  "
      ]
     },
     "execution_count": 160,
     "metadata": {},
     "output_type": "execute_result"
    }
   ],
   "source": [
    "df.head()"
   ]
  },
  {
   "cell_type": "code",
   "execution_count": 161,
   "metadata": {},
   "outputs": [
    {
     "name": "stdout",
     "output_type": "stream",
     "text": [
      "<class 'pandas.core.frame.DataFrame'>\n",
      "RangeIndex: 354369 entries, 0 to 354368\n",
      "Data columns (total 16 columns):\n",
      " #   Column             Non-Null Count   Dtype \n",
      "---  ------             --------------   ----- \n",
      " 0   DateCrawled        354369 non-null  object\n",
      " 1   Price              354369 non-null  int64 \n",
      " 2   VehicleType        316879 non-null  object\n",
      " 3   RegistrationYear   354369 non-null  int64 \n",
      " 4   Gearbox            334536 non-null  object\n",
      " 5   Power              354369 non-null  int64 \n",
      " 6   Model              334664 non-null  object\n",
      " 7   Mileage            354369 non-null  int64 \n",
      " 8   RegistrationMonth  354369 non-null  int64 \n",
      " 9   FuelType           321474 non-null  object\n",
      " 10  Brand              354369 non-null  object\n",
      " 11  NotRepaired        283215 non-null  object\n",
      " 12  DateCreated        354369 non-null  object\n",
      " 13  NumberOfPictures   354369 non-null  int64 \n",
      " 14  PostalCode         354369 non-null  int64 \n",
      " 15  LastSeen           354369 non-null  object\n",
      "dtypes: int64(7), object(9)\n",
      "memory usage: 43.3+ MB\n"
     ]
    }
   ],
   "source": [
    "df.info()"
   ]
  },
  {
   "cell_type": "markdown",
   "metadata": {},
   "source": [
    "### Data Cleaning"
   ]
  },
  {
   "cell_type": "markdown",
   "metadata": {},
   "source": [
    "#### Converting data types\n",
    "\n",
    "Strategy:\n",
    "\n",
    "* Int: Price, Power, Mileage, PostalCode, NumberOfPictures\n",
    "* Datetime: RegistrationYear, RegistrationMonth, DateCreated, LastSeen\n",
    "* String: VehicleType, Gearbox, Model, FuelType, Brand, NotRepaired\n",
    "\n",
    "Most of the columns already have the correct dtype, I will only end up converting the ones that don't"
   ]
  },
  {
   "cell_type": "markdown",
   "metadata": {},
   "source": [
    "#### Integer Dtype Conversions"
   ]
  },
  {
   "cell_type": "markdown",
   "metadata": {},
   "source": [
    "All of the columns needing the integer dtype, have them. No additional work necessary."
   ]
  },
  {
   "cell_type": "markdown",
   "metadata": {},
   "source": [
    "#### String Dtype Conversions"
   ]
  },
  {
   "cell_type": "markdown",
   "metadata": {},
   "source": [
    "All of the columns needing the string dtype, have them. No additional work necessary."
   ]
  },
  {
   "cell_type": "markdown",
   "metadata": {},
   "source": [
    "#### Datetime Dtype Conversions"
   ]
  },
  {
   "cell_type": "markdown",
   "metadata": {},
   "source": [
    "Before converting the datetime type, I'll drop the column of `DateCrawled`, it seems redundant and useless for training."
   ]
  },
  {
   "cell_type": "code",
   "execution_count": 162,
   "metadata": {},
   "outputs": [
    {
     "name": "stdout",
     "output_type": "stream",
     "text": [
      "31/03/2016 23:58\n"
     ]
    }
   ],
   "source": [
    "print(df['DateCrawled'].max())\n"
   ]
  },
  {
   "cell_type": "code",
   "execution_count": 163,
   "metadata": {},
   "outputs": [
    {
     "data": {
      "text/plain": [
       "'31/03/2016 23:58'"
      ]
     },
     "execution_count": 163,
     "metadata": {},
     "output_type": "execute_result"
    }
   ],
   "source": [
    "df['DateCrawled'].max()"
   ]
  },
  {
   "cell_type": "code",
   "execution_count": 164,
   "metadata": {},
   "outputs": [
    {
     "data": {
      "text/html": [
       "<div>\n",
       "<style scoped>\n",
       "    .dataframe tbody tr th:only-of-type {\n",
       "        vertical-align: middle;\n",
       "    }\n",
       "\n",
       "    .dataframe tbody tr th {\n",
       "        vertical-align: top;\n",
       "    }\n",
       "\n",
       "    .dataframe thead th {\n",
       "        text-align: right;\n",
       "    }\n",
       "</style>\n",
       "<table border=\"1\" class=\"dataframe\">\n",
       "  <thead>\n",
       "    <tr style=\"text-align: right;\">\n",
       "      <th></th>\n",
       "      <th>Price</th>\n",
       "      <th>VehicleType</th>\n",
       "      <th>RegistrationYear</th>\n",
       "      <th>Gearbox</th>\n",
       "      <th>Power</th>\n",
       "      <th>Model</th>\n",
       "      <th>Mileage</th>\n",
       "      <th>RegistrationMonth</th>\n",
       "      <th>FuelType</th>\n",
       "      <th>Brand</th>\n",
       "      <th>NotRepaired</th>\n",
       "      <th>DateCreated</th>\n",
       "      <th>NumberOfPictures</th>\n",
       "      <th>PostalCode</th>\n",
       "      <th>LastSeen</th>\n",
       "    </tr>\n",
       "  </thead>\n",
       "  <tbody>\n",
       "    <tr>\n",
       "      <th>0</th>\n",
       "      <td>480</td>\n",
       "      <td>NaN</td>\n",
       "      <td>1993</td>\n",
       "      <td>manual</td>\n",
       "      <td>0</td>\n",
       "      <td>golf</td>\n",
       "      <td>150000</td>\n",
       "      <td>0</td>\n",
       "      <td>petrol</td>\n",
       "      <td>volkswagen</td>\n",
       "      <td>NaN</td>\n",
       "      <td>24/03/2016 00:00</td>\n",
       "      <td>0</td>\n",
       "      <td>70435</td>\n",
       "      <td>07/04/2016 03:16</td>\n",
       "    </tr>\n",
       "    <tr>\n",
       "      <th>1</th>\n",
       "      <td>18300</td>\n",
       "      <td>coupe</td>\n",
       "      <td>2011</td>\n",
       "      <td>manual</td>\n",
       "      <td>190</td>\n",
       "      <td>NaN</td>\n",
       "      <td>125000</td>\n",
       "      <td>5</td>\n",
       "      <td>gasoline</td>\n",
       "      <td>audi</td>\n",
       "      <td>yes</td>\n",
       "      <td>24/03/2016 00:00</td>\n",
       "      <td>0</td>\n",
       "      <td>66954</td>\n",
       "      <td>07/04/2016 01:46</td>\n",
       "    </tr>\n",
       "    <tr>\n",
       "      <th>2</th>\n",
       "      <td>9800</td>\n",
       "      <td>suv</td>\n",
       "      <td>2004</td>\n",
       "      <td>auto</td>\n",
       "      <td>163</td>\n",
       "      <td>grand</td>\n",
       "      <td>125000</td>\n",
       "      <td>8</td>\n",
       "      <td>gasoline</td>\n",
       "      <td>jeep</td>\n",
       "      <td>NaN</td>\n",
       "      <td>14/03/2016 00:00</td>\n",
       "      <td>0</td>\n",
       "      <td>90480</td>\n",
       "      <td>05/04/2016 12:47</td>\n",
       "    </tr>\n",
       "    <tr>\n",
       "      <th>3</th>\n",
       "      <td>1500</td>\n",
       "      <td>small</td>\n",
       "      <td>2001</td>\n",
       "      <td>manual</td>\n",
       "      <td>75</td>\n",
       "      <td>golf</td>\n",
       "      <td>150000</td>\n",
       "      <td>6</td>\n",
       "      <td>petrol</td>\n",
       "      <td>volkswagen</td>\n",
       "      <td>no</td>\n",
       "      <td>17/03/2016 00:00</td>\n",
       "      <td>0</td>\n",
       "      <td>91074</td>\n",
       "      <td>17/03/2016 17:40</td>\n",
       "    </tr>\n",
       "    <tr>\n",
       "      <th>4</th>\n",
       "      <td>3600</td>\n",
       "      <td>small</td>\n",
       "      <td>2008</td>\n",
       "      <td>manual</td>\n",
       "      <td>69</td>\n",
       "      <td>fabia</td>\n",
       "      <td>90000</td>\n",
       "      <td>7</td>\n",
       "      <td>gasoline</td>\n",
       "      <td>skoda</td>\n",
       "      <td>no</td>\n",
       "      <td>31/03/2016 00:00</td>\n",
       "      <td>0</td>\n",
       "      <td>60437</td>\n",
       "      <td>06/04/2016 10:17</td>\n",
       "    </tr>\n",
       "  </tbody>\n",
       "</table>\n",
       "</div>"
      ],
      "text/plain": [
       "   Price VehicleType  RegistrationYear Gearbox  Power  Model  Mileage  \\\n",
       "0    480         NaN              1993  manual      0   golf   150000   \n",
       "1  18300       coupe              2011  manual    190    NaN   125000   \n",
       "2   9800         suv              2004    auto    163  grand   125000   \n",
       "3   1500       small              2001  manual     75   golf   150000   \n",
       "4   3600       small              2008  manual     69  fabia    90000   \n",
       "\n",
       "   RegistrationMonth  FuelType       Brand NotRepaired       DateCreated  \\\n",
       "0                  0    petrol  volkswagen         NaN  24/03/2016 00:00   \n",
       "1                  5  gasoline        audi         yes  24/03/2016 00:00   \n",
       "2                  8  gasoline        jeep         NaN  14/03/2016 00:00   \n",
       "3                  6    petrol  volkswagen          no  17/03/2016 00:00   \n",
       "4                  7  gasoline       skoda          no  31/03/2016 00:00   \n",
       "\n",
       "   NumberOfPictures  PostalCode          LastSeen  \n",
       "0                 0       70435  07/04/2016 03:16  \n",
       "1                 0       66954  07/04/2016 01:46  \n",
       "2                 0       90480  05/04/2016 12:47  \n",
       "3                 0       91074  17/03/2016 17:40  \n",
       "4                 0       60437  06/04/2016 10:17  "
      ]
     },
     "execution_count": 164,
     "metadata": {},
     "output_type": "execute_result"
    }
   ],
   "source": [
    "df = df.drop('DateCrawled', axis=1)\n",
    "df.head()"
   ]
  },
  {
   "cell_type": "markdown",
   "metadata": {},
   "source": [
    "\n",
    "<div class=\"alert alert-info\" style=\"border-radius: 15px; box-shadow: 4px 4px 4px; border: 1px solid \">\n",
    "<h2>   Comment </h2>\n",
    "    \n",
    "The max year in `DateCrawled` is 2016, so I will drop all the data after 2016 for `RegistrationYear` because the latest we pulled data was 2016.\n",
    "    \n",
    "</div>"
   ]
  },
  {
   "cell_type": "markdown",
   "metadata": {},
   "source": [
    "#### Looking into each column that I want to convert"
   ]
  },
  {
   "cell_type": "markdown",
   "metadata": {},
   "source": [
    "##### RegistrationYear"
   ]
  },
  {
   "cell_type": "code",
   "execution_count": 165,
   "metadata": {},
   "outputs": [
    {
     "data": {
      "text/plain": [
       "array([1000, 1001, 1039, 1111, 1200, 1234, 1253, 1255, 1300, 1400, 1500,\n",
       "       1600, 1602, 1688, 1800, 1910, 1915, 1919, 1920, 1923, 1925, 1927,\n",
       "       1928, 1929, 1930, 1931, 1932, 1933, 1934, 1935, 1936, 1937, 1938,\n",
       "       1940, 1941, 1942, 1943, 1944, 1945, 1946, 1947, 1948, 1949, 1950,\n",
       "       1951, 1952, 1953, 1954, 1955, 1956, 1957, 1958, 1959, 1960, 1961,\n",
       "       1962, 1963, 1964, 1965, 1966, 1967, 1968, 1969, 1970, 1971, 1972,\n",
       "       1973, 1974, 1975, 1976, 1977, 1978, 1979, 1980, 1981, 1982, 1983,\n",
       "       1984, 1985, 1986, 1987, 1988, 1989, 1990, 1991, 1992, 1993, 1994,\n",
       "       1995, 1996, 1997, 1998, 1999, 2000, 2001, 2002, 2003, 2004, 2005,\n",
       "       2006, 2007, 2008, 2009, 2010, 2011, 2012, 2013, 2014, 2015, 2016,\n",
       "       2017, 2018, 2019, 2066, 2200, 2222, 2290, 2500, 2800, 2900, 3000,\n",
       "       3200, 3500, 3700, 3800, 4000, 4100, 4500, 4800, 5000, 5300, 5555,\n",
       "       5600, 5900, 5911, 6000, 6500, 7000, 7100, 7500, 7800, 8000, 8200,\n",
       "       8455, 8500, 8888, 9000, 9229, 9450, 9996, 9999])"
      ]
     },
     "execution_count": 165,
     "metadata": {},
     "output_type": "execute_result"
    }
   ],
   "source": [
    "np.sort(df['RegistrationYear'].unique())\n"
   ]
  },
  {
   "cell_type": "markdown",
   "metadata": {},
   "source": [
    "During the conversion of the 'RegistrationYear' column, I found there are abnormal years"
   ]
  },
  {
   "cell_type": "code",
   "execution_count": 166,
   "metadata": {},
   "outputs": [
    {
     "name": "stdout",
     "output_type": "stream",
     "text": [
      "RegistrationYear\n",
      "2000    24490\n",
      "1999    22728\n",
      "2005    22109\n",
      "2001    20124\n",
      "2006    19900\n",
      "2003    19763\n",
      "2004    19611\n",
      "2002    19092\n",
      "1998    17899\n",
      "2007    17183\n",
      "2008    15391\n",
      "1997    14666\n",
      "2009    14503\n",
      "1996    10835\n",
      "2010    10764\n",
      "2017    10441\n",
      "2011     9909\n",
      "1995     9607\n",
      "2016     9599\n",
      "2012     7178\n",
      "1994     4841\n",
      "2013     4131\n",
      "2018     3959\n",
      "1993     3438\n",
      "1992     3002\n",
      "1990     2806\n",
      "1991     2762\n",
      "2014     2537\n",
      "1989     1318\n",
      "2015     1302\n",
      "1988      942\n",
      "1985      756\n",
      "1987      667\n",
      "1980      588\n",
      "1986      538\n",
      "1983      430\n",
      "1984      399\n",
      "1970      333\n",
      "1982      316\n",
      "1978      285\n",
      "1979      283\n",
      "1981      263\n",
      "1972      213\n",
      "1960      188\n",
      "1976      175\n",
      "1977      173\n",
      "1973      173\n",
      "1974      169\n",
      "1971      167\n",
      "1975      143\n",
      "1969      118\n",
      "1966      113\n",
      "1968      108\n",
      "1910      101\n",
      "1967       99\n",
      "1965       82\n",
      "1964       64\n",
      "1963       57\n",
      "1962       46\n",
      "1961       41\n",
      "1000       37\n",
      "1959       32\n",
      "1956       27\n",
      "9999       26\n",
      "1958       25\n",
      "2019       25\n",
      "1950       18\n",
      "5000       17\n",
      "1955       15\n",
      "1953       14\n",
      "1957       13\n",
      "1951       12\n",
      "1937       11\n",
      "1954       11\n",
      "1952        9\n",
      "1938        8\n",
      "3000        7\n",
      "1929        7\n",
      "1500        5\n",
      "1800        5\n",
      "6000        5\n",
      "2500        4\n",
      "7000        4\n",
      "1945        4\n",
      "1234        4\n",
      "1935        4\n",
      "1943        4\n",
      "1932        3\n",
      "1933        3\n",
      "1930        3\n",
      "1942        3\n",
      "4000        3\n",
      "1111        3\n",
      "1948        3\n",
      "1936        3\n",
      "9000        3\n",
      "1934        3\n",
      "5555        2\n",
      "2800        2\n",
      "1941        2\n",
      "1940        2\n",
      "1923        2\n",
      "1300        2\n",
      "2222        2\n",
      "1928        2\n",
      "1947        2\n",
      "5911        2\n",
      "4500        2\n",
      "8000        2\n",
      "1944        2\n",
      "1600        2\n",
      "1039        1\n",
      "5600        1\n",
      "7100        1\n",
      "9996        1\n",
      "8455        1\n",
      "1931        1\n",
      "1915        1\n",
      "1920        1\n",
      "1602        1\n",
      "7800        1\n",
      "9229        1\n",
      "7500        1\n",
      "1946        1\n",
      "1927        1\n",
      "8200        1\n",
      "1919        1\n",
      "4100        1\n",
      "1253        1\n",
      "1400        1\n",
      "1925        1\n",
      "3200        1\n",
      "8888        1\n",
      "2200        1\n",
      "2066        1\n",
      "1949        1\n",
      "5300        1\n",
      "2900        1\n",
      "5900        1\n",
      "1200        1\n",
      "1688        1\n",
      "8500        1\n",
      "1255        1\n",
      "3700        1\n",
      "3800        1\n",
      "4800        1\n",
      "6500        1\n",
      "2290        1\n",
      "1001        1\n",
      "9450        1\n",
      "3500        1\n"
     ]
    }
   ],
   "source": [
    "print(df['RegistrationYear'].value_counts().to_string())"
   ]
  },
  {
   "cell_type": "markdown",
   "metadata": {},
   "source": [
    "It makes sense to drop anything above 2016 and below 1900. That's around the time the data started making sense."
   ]
  },
  {
   "cell_type": "code",
   "execution_count": 167,
   "metadata": {},
   "outputs": [],
   "source": [
    "df = df[~((df['RegistrationYear'] < 1900) | (df['RegistrationYear'] > 2016))]\n"
   ]
  },
  {
   "cell_type": "markdown",
   "metadata": {},
   "source": [
    "##### RegistrationMonth"
   ]
  },
  {
   "cell_type": "code",
   "execution_count": 168,
   "metadata": {},
   "outputs": [
    {
     "data": {
      "text/plain": [
       "array([ 0,  1,  2,  3,  4,  5,  6,  7,  8,  9, 10, 11, 12])"
      ]
     },
     "execution_count": 168,
     "metadata": {},
     "output_type": "execute_result"
    }
   ],
   "source": [
    "np.sort(df['RegistrationMonth'].unique())"
   ]
  },
  {
   "cell_type": "code",
   "execution_count": 169,
   "metadata": {},
   "outputs": [
    {
     "data": {
      "text/plain": [
       "RegistrationMonth\n",
       "0     33616\n",
       "3     33193\n",
       "6     30389\n",
       "4     28188\n",
       "5     28130\n",
       "7     26301\n",
       "10    25255\n",
       "12    23399\n",
       "11    23381\n",
       "9     23083\n",
       "1     22464\n",
       "8     21825\n",
       "2     20549\n",
       "Name: count, dtype: int64"
      ]
     },
     "execution_count": 169,
     "metadata": {},
     "output_type": "execute_result"
    }
   ],
   "source": [
    "df['RegistrationMonth'].value_counts()"
   ]
  },
  {
   "cell_type": "markdown",
   "metadata": {},
   "source": [
    "There are 13 unique month values (0 to 12) in the column. In `pandas.Series.dt.month`, the correct month values are from 1 to 12, therefore the value 0 is abnormal.\n",
    "\n",
    "Sicne the count of 0 is 37127, that is too many to be deleted, so I'll randomly allocate them to other months."
   ]
  },
  {
   "cell_type": "code",
   "execution_count": 170,
   "metadata": {},
   "outputs": [
    {
     "data": {
      "text/plain": [
       "array([ 9,  5,  8,  6,  7, 10, 12, 11,  2,  3,  1,  4])"
      ]
     },
     "execution_count": 170,
     "metadata": {},
     "output_type": "execute_result"
    }
   ],
   "source": [
    "month_zero = df['RegistrationMonth'] == 0\n",
    "random_months = np.random.randint(1, 13, size=month_zero.sum())\n",
    "df.loc[month_zero, 'RegistrationMonth'] = random_months\n",
    "df['RegistrationMonth'].unique()"
   ]
  },
  {
   "cell_type": "code",
   "execution_count": 171,
   "metadata": {},
   "outputs": [
    {
     "data": {
      "text/plain": [
       "RegistrationMonth\n",
       "3     35957\n",
       "6     33193\n",
       "4     30900\n",
       "5     30894\n",
       "7     29213\n",
       "10    28129\n",
       "11    26237\n",
       "12    26203\n",
       "9     25859\n",
       "1     25213\n",
       "8     24651\n",
       "2     23324\n",
       "Name: count, dtype: int64"
      ]
     },
     "execution_count": 171,
     "metadata": {},
     "output_type": "execute_result"
    }
   ],
   "source": [
    "df['RegistrationMonth'].value_counts()"
   ]
  },
  {
   "cell_type": "markdown",
   "metadata": {},
   "source": [
    "I'm going to combine RegistrationMonth and RegistrationYear and convert to date. Then drop LastSeen and DateCreated, as they don't provide any substance to the data."
   ]
  },
  {
   "cell_type": "code",
   "execution_count": 172,
   "metadata": {},
   "outputs": [],
   "source": [
    "df['RegistrationDate'] = pd.to_datetime(df['RegistrationYear'] * 10000 + df['RegistrationMonth'] * 100 + 1, format='%Y%m%d')\n",
    "df.drop(['RegistrationYear', 'RegistrationMonth', 'DateCreated', 'LastSeen'], axis=1, inplace=True)\n",
    "df.drop('NumberOfPictures', axis=1, inplace=True)\n"
   ]
  },
  {
   "cell_type": "code",
   "execution_count": 173,
   "metadata": {},
   "outputs": [
    {
     "name": "stdout",
     "output_type": "stream",
     "text": [
      "<class 'pandas.core.frame.DataFrame'>\n",
      "Index: 339773 entries, 0 to 354368\n",
      "Data columns (total 11 columns):\n",
      " #   Column            Non-Null Count   Dtype         \n",
      "---  ------            --------------   -----         \n",
      " 0   Price             339773 non-null  int64         \n",
      " 1   VehicleType       316859 non-null  object        \n",
      " 2   Gearbox           321864 non-null  object        \n",
      " 3   Power             339773 non-null  int64         \n",
      " 4   Model             322148 non-null  object        \n",
      " 5   Mileage           339773 non-null  int64         \n",
      " 6   FuelType          312524 non-null  object        \n",
      " 7   Brand             339773 non-null  object        \n",
      " 8   NotRepaired       274974 non-null  object        \n",
      " 9   PostalCode        339773 non-null  int64         \n",
      " 10  RegistrationDate  339773 non-null  datetime64[ns]\n",
      "dtypes: datetime64[ns](1), int64(4), object(6)\n",
      "memory usage: 31.1+ MB\n"
     ]
    }
   ],
   "source": [
    "df.info()"
   ]
  },
  {
   "cell_type": "markdown",
   "metadata": {},
   "source": [
    "#### Addressing missing values"
   ]
  },
  {
   "cell_type": "code",
   "execution_count": 174,
   "metadata": {},
   "outputs": [
    {
     "data": {
      "text/plain": [
       "Price                   0\n",
       "VehicleType         22914\n",
       "Gearbox             17909\n",
       "Power                   0\n",
       "Model               17625\n",
       "Mileage                 0\n",
       "FuelType            27249\n",
       "Brand                   0\n",
       "NotRepaired         64799\n",
       "PostalCode              0\n",
       "RegistrationDate        0\n",
       "dtype: int64"
      ]
     },
     "execution_count": 174,
     "metadata": {},
     "output_type": "execute_result"
    }
   ],
   "source": [
    "df.isnull().sum()"
   ]
  },
  {
   "cell_type": "markdown",
   "metadata": {},
   "source": [
    "There are lots of missing values in 5 columns. These cannot simply be deleted since the missing values take up a significant proportion.\n",
    "\n",
    "Being that this is vehicle car sales, I need to have accurate information for each row (vehicle). Therefore since I can't retrieve the information, I will fill in the data for the columns with the phrase \"No Data Available\". "
   ]
  },
  {
   "cell_type": "code",
   "execution_count": 175,
   "metadata": {},
   "outputs": [
    {
     "name": "stdout",
     "output_type": "stream",
     "text": [
      "<class 'pandas.core.frame.DataFrame'>\n",
      "Index: 339773 entries, 0 to 354368\n",
      "Data columns (total 11 columns):\n",
      " #   Column            Non-Null Count   Dtype         \n",
      "---  ------            --------------   -----         \n",
      " 0   Price             339773 non-null  int64         \n",
      " 1   VehicleType       339773 non-null  object        \n",
      " 2   Gearbox           339773 non-null  object        \n",
      " 3   Power             339773 non-null  int64         \n",
      " 4   Model             339773 non-null  object        \n",
      " 5   Mileage           339773 non-null  int64         \n",
      " 6   FuelType          339773 non-null  object        \n",
      " 7   Brand             339773 non-null  object        \n",
      " 8   NotRepaired       339773 non-null  object        \n",
      " 9   PostalCode        339773 non-null  int64         \n",
      " 10  RegistrationDate  339773 non-null  datetime64[ns]\n",
      "dtypes: datetime64[ns](1), int64(4), object(6)\n",
      "memory usage: 31.1+ MB\n"
     ]
    }
   ],
   "source": [
    "df['VehicleType'] = df['VehicleType'].fillna('No Data Available')\n",
    "df['Gearbox'] = df['Gearbox'].fillna('No Data Available')\n",
    "df['Model'] = df['Model'].fillna('No Data Available')\n",
    "df['FuelType'] = df['FuelType'].fillna('No Data Available')\n",
    "df['NotRepaired'] = df['NotRepaired'].fillna('No Data Available')\n",
    "df.info()"
   ]
  },
  {
   "cell_type": "markdown",
   "metadata": {},
   "source": [
    "#### Checking for duplicates"
   ]
  },
  {
   "cell_type": "code",
   "execution_count": 176,
   "metadata": {},
   "outputs": [
    {
     "data": {
      "text/plain": [
       "19572"
      ]
     },
     "execution_count": 176,
     "metadata": {},
     "output_type": "execute_result"
    }
   ],
   "source": [
    "df.duplicated().sum()"
   ]
  },
  {
   "cell_type": "markdown",
   "metadata": {},
   "source": [
    "#### Removing duplicate rows"
   ]
  },
  {
   "cell_type": "code",
   "execution_count": 177,
   "metadata": {},
   "outputs": [
    {
     "data": {
      "text/plain": [
       "0"
      ]
     },
     "execution_count": 177,
     "metadata": {},
     "output_type": "execute_result"
    }
   ],
   "source": [
    "df = df.drop_duplicates()\n",
    "df.duplicated().sum()"
   ]
  },
  {
   "cell_type": "markdown",
   "metadata": {},
   "source": [
    "#### Checking for abnormal values (negative price, negative mileage, etc.)"
   ]
  },
  {
   "cell_type": "code",
   "execution_count": 178,
   "metadata": {},
   "outputs": [
    {
     "data": {
      "text/html": [
       "<div>\n",
       "<style scoped>\n",
       "    .dataframe tbody tr th:only-of-type {\n",
       "        vertical-align: middle;\n",
       "    }\n",
       "\n",
       "    .dataframe tbody tr th {\n",
       "        vertical-align: top;\n",
       "    }\n",
       "\n",
       "    .dataframe thead th {\n",
       "        text-align: right;\n",
       "    }\n",
       "</style>\n",
       "<table border=\"1\" class=\"dataframe\">\n",
       "  <thead>\n",
       "    <tr style=\"text-align: right;\">\n",
       "      <th></th>\n",
       "      <th>Price</th>\n",
       "      <th>Power</th>\n",
       "      <th>Mileage</th>\n",
       "      <th>PostalCode</th>\n",
       "      <th>RegistrationDate</th>\n",
       "    </tr>\n",
       "  </thead>\n",
       "  <tbody>\n",
       "    <tr>\n",
       "      <th>count</th>\n",
       "      <td>320201.00000</td>\n",
       "      <td>320201.000000</td>\n",
       "      <td>320201.000000</td>\n",
       "      <td>320201.000000</td>\n",
       "      <td>320201</td>\n",
       "    </tr>\n",
       "    <tr>\n",
       "      <th>mean</th>\n",
       "      <td>4424.11376</td>\n",
       "      <td>110.523502</td>\n",
       "      <td>128193.697084</td>\n",
       "      <td>50767.227379</td>\n",
       "      <td>2002-11-14 03:39:45.268003456</td>\n",
       "    </tr>\n",
       "    <tr>\n",
       "      <th>min</th>\n",
       "      <td>0.00000</td>\n",
       "      <td>0.000000</td>\n",
       "      <td>5000.000000</td>\n",
       "      <td>1067.000000</td>\n",
       "      <td>1910-01-01 00:00:00</td>\n",
       "    </tr>\n",
       "    <tr>\n",
       "      <th>25%</th>\n",
       "      <td>1000.00000</td>\n",
       "      <td>69.000000</td>\n",
       "      <td>125000.000000</td>\n",
       "      <td>30419.000000</td>\n",
       "      <td>1999-03-01 00:00:00</td>\n",
       "    </tr>\n",
       "    <tr>\n",
       "      <th>50%</th>\n",
       "      <td>2700.00000</td>\n",
       "      <td>105.000000</td>\n",
       "      <td>150000.000000</td>\n",
       "      <td>49565.000000</td>\n",
       "      <td>2003-02-01 00:00:00</td>\n",
       "    </tr>\n",
       "    <tr>\n",
       "      <th>75%</th>\n",
       "      <td>6400.00000</td>\n",
       "      <td>143.000000</td>\n",
       "      <td>150000.000000</td>\n",
       "      <td>71522.000000</td>\n",
       "      <td>2007-05-01 00:00:00</td>\n",
       "    </tr>\n",
       "    <tr>\n",
       "      <th>max</th>\n",
       "      <td>20000.00000</td>\n",
       "      <td>20000.000000</td>\n",
       "      <td>150000.000000</td>\n",
       "      <td>99998.000000</td>\n",
       "      <td>2016-12-01 00:00:00</td>\n",
       "    </tr>\n",
       "    <tr>\n",
       "      <th>std</th>\n",
       "      <td>4532.69273</td>\n",
       "      <td>191.895646</td>\n",
       "      <td>37906.148302</td>\n",
       "      <td>25823.652949</td>\n",
       "      <td>NaN</td>\n",
       "    </tr>\n",
       "  </tbody>\n",
       "</table>\n",
       "</div>"
      ],
      "text/plain": [
       "              Price          Power        Mileage     PostalCode  \\\n",
       "count  320201.00000  320201.000000  320201.000000  320201.000000   \n",
       "mean     4424.11376     110.523502  128193.697084   50767.227379   \n",
       "min         0.00000       0.000000    5000.000000    1067.000000   \n",
       "25%      1000.00000      69.000000  125000.000000   30419.000000   \n",
       "50%      2700.00000     105.000000  150000.000000   49565.000000   \n",
       "75%      6400.00000     143.000000  150000.000000   71522.000000   \n",
       "max     20000.00000   20000.000000  150000.000000   99998.000000   \n",
       "std      4532.69273     191.895646   37906.148302   25823.652949   \n",
       "\n",
       "                    RegistrationDate  \n",
       "count                         320201  \n",
       "mean   2002-11-14 03:39:45.268003456  \n",
       "min              1910-01-01 00:00:00  \n",
       "25%              1999-03-01 00:00:00  \n",
       "50%              2003-02-01 00:00:00  \n",
       "75%              2007-05-01 00:00:00  \n",
       "max              2016-12-01 00:00:00  \n",
       "std                              NaN  "
      ]
     },
     "execution_count": 178,
     "metadata": {},
     "output_type": "execute_result"
    }
   ],
   "source": [
    "df.describe()"
   ]
  },
  {
   "cell_type": "code",
   "execution_count": 179,
   "metadata": {},
   "outputs": [
    {
     "data": {
      "text/plain": [
       "320201"
      ]
     },
     "execution_count": 179,
     "metadata": {},
     "output_type": "execute_result"
    }
   ],
   "source": [
    "df_old = df.shape[0]\n",
    "df_old"
   ]
  },
  {
   "cell_type": "markdown",
   "metadata": {},
   "source": [
    "There are abnormal values in all numeric columns:\n",
    "\n",
    "* `Price`: The minimum value is 0, you can't sell a car for $0.\n",
    "* `Power`: The horsepower of a car changes by the vehicle displacement. It's typically between tens and hundreds, so the minimum and maximum values are abnormal.\n",
    "* `Mileage`: The 50th percentile, 75th percentile and max are all the same value which is 150000. I don't have any other information to deal with `Mileage`, it's too many to be removed directly.\n",
    "* `NumberOfPictures`: All entries equal to 0. This column is useless, so I will remove.\n",
    "* `PostalCode`: Some entries have 4 digits, while most of the entries have 5 digits. For `PostalCode`, I don't know whether there is any wrong values. Fortunately, these numbers are categorical and the value of number is doesn't matter. So I will leave the data.\n",
    "\n",
    "\n",
    "For `NumberOfPictures`, I'll just remove it. For `Price` and `Power`, I will use Percentile Based Filtering (Top 1%, Bottom 1%)"
   ]
  },
  {
   "cell_type": "code",
   "execution_count": 180,
   "metadata": {},
   "outputs": [
    {
     "data": {
      "image/png": "[encoded data removed]",
      "text/plain": [
       "<Figure size 640x480 with 1 Axes>"
      ]
     },
     "metadata": {},
     "output_type": "display_data"
    }
   ],
   "source": [
    "sns.histplot(df['Price'], bins=30, kde=True)\n",
    "plt.title(\"Histogram & KDE Plot\")\n",
    "plt.show()\n"
   ]
  },
  {
   "cell_type": "code",
   "execution_count": 181,
   "metadata": {},
   "outputs": [
    {
     "data": {
      "image/png": "[encoded data removed]",
      "text/plain": [
       "<Figure size 640x480 with 1 Axes>"
      ]
     },
     "metadata": {},
     "output_type": "display_data"
    }
   ],
   "source": [
    "sns.histplot(df['Power'], bins=1000, kde=True)\n",
    "plt.title(\"Histogram & KDE Plot\")\n",
    "plt.xlim(0, 500)\n",
    "plt.show()"
   ]
  },
  {
   "cell_type": "code",
   "execution_count": 182,
   "metadata": {},
   "outputs": [
    {
     "data": {
      "text/html": [
       "<div>\n",
       "<style scoped>\n",
       "    .dataframe tbody tr th:only-of-type {\n",
       "        vertical-align: middle;\n",
       "    }\n",
       "\n",
       "    .dataframe tbody tr th {\n",
       "        vertical-align: top;\n",
       "    }\n",
       "\n",
       "    .dataframe thead th {\n",
       "        text-align: right;\n",
       "    }\n",
       "</style>\n",
       "<table border=\"1\" class=\"dataframe\">\n",
       "  <thead>\n",
       "    <tr style=\"text-align: right;\">\n",
       "      <th></th>\n",
       "      <th>Price</th>\n",
       "      <th>VehicleType</th>\n",
       "      <th>Gearbox</th>\n",
       "      <th>Power</th>\n",
       "      <th>Model</th>\n",
       "      <th>Mileage</th>\n",
       "      <th>FuelType</th>\n",
       "      <th>Brand</th>\n",
       "      <th>NotRepaired</th>\n",
       "      <th>PostalCode</th>\n",
       "      <th>RegistrationDate</th>\n",
       "    </tr>\n",
       "  </thead>\n",
       "  <tbody>\n",
       "    <tr>\n",
       "      <th>7</th>\n",
       "      <td>0</td>\n",
       "      <td>sedan</td>\n",
       "      <td>manual</td>\n",
       "      <td>50</td>\n",
       "      <td>other</td>\n",
       "      <td>40000</td>\n",
       "      <td>petrol</td>\n",
       "      <td>volkswagen</td>\n",
       "      <td>no</td>\n",
       "      <td>19348</td>\n",
       "      <td>1980-07-01</td>\n",
       "    </tr>\n",
       "    <tr>\n",
       "      <th>40</th>\n",
       "      <td>0</td>\n",
       "      <td>No Data Available</td>\n",
       "      <td>No Data Available</td>\n",
       "      <td>0</td>\n",
       "      <td>corsa</td>\n",
       "      <td>150000</td>\n",
       "      <td>petrol</td>\n",
       "      <td>opel</td>\n",
       "      <td>No Data Available</td>\n",
       "      <td>56412</td>\n",
       "      <td>1990-01-01</td>\n",
       "    </tr>\n",
       "    <tr>\n",
       "      <th>115</th>\n",
       "      <td>0</td>\n",
       "      <td>small</td>\n",
       "      <td>No Data Available</td>\n",
       "      <td>0</td>\n",
       "      <td>No Data Available</td>\n",
       "      <td>5000</td>\n",
       "      <td>petrol</td>\n",
       "      <td>volkswagen</td>\n",
       "      <td>No Data Available</td>\n",
       "      <td>37520</td>\n",
       "      <td>1999-02-01</td>\n",
       "    </tr>\n",
       "    <tr>\n",
       "      <th>152</th>\n",
       "      <td>0</td>\n",
       "      <td>bus</td>\n",
       "      <td>manual</td>\n",
       "      <td>101</td>\n",
       "      <td>meriva</td>\n",
       "      <td>150000</td>\n",
       "      <td>lpg</td>\n",
       "      <td>opel</td>\n",
       "      <td>yes</td>\n",
       "      <td>27432</td>\n",
       "      <td>2004-10-01</td>\n",
       "    </tr>\n",
       "    <tr>\n",
       "      <th>154</th>\n",
       "      <td>0</td>\n",
       "      <td>No Data Available</td>\n",
       "      <td>No Data Available</td>\n",
       "      <td>0</td>\n",
       "      <td>other</td>\n",
       "      <td>5000</td>\n",
       "      <td>No Data Available</td>\n",
       "      <td>fiat</td>\n",
       "      <td>No Data Available</td>\n",
       "      <td>44867</td>\n",
       "      <td>2006-08-01</td>\n",
       "    </tr>\n",
       "    <tr>\n",
       "      <th>...</th>\n",
       "      <td>...</td>\n",
       "      <td>...</td>\n",
       "      <td>...</td>\n",
       "      <td>...</td>\n",
       "      <td>...</td>\n",
       "      <td>...</td>\n",
       "      <td>...</td>\n",
       "      <td>...</td>\n",
       "      <td>...</td>\n",
       "      <td>...</td>\n",
       "      <td>...</td>\n",
       "    </tr>\n",
       "    <tr>\n",
       "      <th>354205</th>\n",
       "      <td>0</td>\n",
       "      <td>No Data Available</td>\n",
       "      <td>manual</td>\n",
       "      <td>65</td>\n",
       "      <td>corsa</td>\n",
       "      <td>150000</td>\n",
       "      <td>No Data Available</td>\n",
       "      <td>opel</td>\n",
       "      <td>yes</td>\n",
       "      <td>23758</td>\n",
       "      <td>2000-08-01</td>\n",
       "    </tr>\n",
       "    <tr>\n",
       "      <th>354238</th>\n",
       "      <td>0</td>\n",
       "      <td>small</td>\n",
       "      <td>manual</td>\n",
       "      <td>60</td>\n",
       "      <td>fiesta</td>\n",
       "      <td>150000</td>\n",
       "      <td>petrol</td>\n",
       "      <td>ford</td>\n",
       "      <td>No Data Available</td>\n",
       "      <td>33659</td>\n",
       "      <td>2002-03-01</td>\n",
       "    </tr>\n",
       "    <tr>\n",
       "      <th>354248</th>\n",
       "      <td>0</td>\n",
       "      <td>small</td>\n",
       "      <td>manual</td>\n",
       "      <td>53</td>\n",
       "      <td>swift</td>\n",
       "      <td>150000</td>\n",
       "      <td>petrol</td>\n",
       "      <td>suzuki</td>\n",
       "      <td>No Data Available</td>\n",
       "      <td>42329</td>\n",
       "      <td>1999-03-01</td>\n",
       "    </tr>\n",
       "    <tr>\n",
       "      <th>354277</th>\n",
       "      <td>0</td>\n",
       "      <td>small</td>\n",
       "      <td>manual</td>\n",
       "      <td>37</td>\n",
       "      <td>arosa</td>\n",
       "      <td>150000</td>\n",
       "      <td>petrol</td>\n",
       "      <td>seat</td>\n",
       "      <td>yes</td>\n",
       "      <td>22559</td>\n",
       "      <td>1999-07-01</td>\n",
       "    </tr>\n",
       "    <tr>\n",
       "      <th>354364</th>\n",
       "      <td>0</td>\n",
       "      <td>No Data Available</td>\n",
       "      <td>manual</td>\n",
       "      <td>0</td>\n",
       "      <td>colt</td>\n",
       "      <td>150000</td>\n",
       "      <td>petrol</td>\n",
       "      <td>mitsubishi</td>\n",
       "      <td>yes</td>\n",
       "      <td>2694</td>\n",
       "      <td>2005-07-01</td>\n",
       "    </tr>\n",
       "  </tbody>\n",
       "</table>\n",
       "<p>9502 rows × 11 columns</p>\n",
       "</div>"
      ],
      "text/plain": [
       "        Price        VehicleType            Gearbox  Power              Model  \\\n",
       "7           0              sedan             manual     50              other   \n",
       "40          0  No Data Available  No Data Available      0              corsa   \n",
       "115         0              small  No Data Available      0  No Data Available   \n",
       "152         0                bus             manual    101             meriva   \n",
       "154         0  No Data Available  No Data Available      0              other   \n",
       "...       ...                ...                ...    ...                ...   \n",
       "354205      0  No Data Available             manual     65              corsa   \n",
       "354238      0              small             manual     60             fiesta   \n",
       "354248      0              small             manual     53              swift   \n",
       "354277      0              small             manual     37              arosa   \n",
       "354364      0  No Data Available             manual      0               colt   \n",
       "\n",
       "        Mileage           FuelType       Brand        NotRepaired  PostalCode  \\\n",
       "7         40000             petrol  volkswagen                 no       19348   \n",
       "40       150000             petrol        opel  No Data Available       56412   \n",
       "115        5000             petrol  volkswagen  No Data Available       37520   \n",
       "152      150000                lpg        opel                yes       27432   \n",
       "154        5000  No Data Available        fiat  No Data Available       44867   \n",
       "...         ...                ...         ...                ...         ...   \n",
       "354205   150000  No Data Available        opel                yes       23758   \n",
       "354238   150000             petrol        ford  No Data Available       33659   \n",
       "354248   150000             petrol      suzuki  No Data Available       42329   \n",
       "354277   150000             petrol        seat                yes       22559   \n",
       "354364   150000             petrol  mitsubishi                yes        2694   \n",
       "\n",
       "       RegistrationDate  \n",
       "7            1980-07-01  \n",
       "40           1990-01-01  \n",
       "115          1999-02-01  \n",
       "152          2004-10-01  \n",
       "154          2006-08-01  \n",
       "...                 ...  \n",
       "354205       2000-08-01  \n",
       "354238       2002-03-01  \n",
       "354248       1999-03-01  \n",
       "354277       1999-07-01  \n",
       "354364       2005-07-01  \n",
       "\n",
       "[9502 rows x 11 columns]"
      ]
     },
     "execution_count": 182,
     "metadata": {},
     "output_type": "execute_result"
    }
   ],
   "source": [
    "df[df['Price'] == 0]"
   ]
  },
  {
   "cell_type": "code",
   "execution_count": 183,
   "metadata": {},
   "outputs": [
    {
     "data": {
      "text/html": [
       "<div>\n",
       "<style scoped>\n",
       "    .dataframe tbody tr th:only-of-type {\n",
       "        vertical-align: middle;\n",
       "    }\n",
       "\n",
       "    .dataframe tbody tr th {\n",
       "        vertical-align: top;\n",
       "    }\n",
       "\n",
       "    .dataframe thead th {\n",
       "        text-align: right;\n",
       "    }\n",
       "</style>\n",
       "<table border=\"1\" class=\"dataframe\">\n",
       "  <thead>\n",
       "    <tr style=\"text-align: right;\">\n",
       "      <th></th>\n",
       "      <th>Price</th>\n",
       "      <th>VehicleType</th>\n",
       "      <th>Gearbox</th>\n",
       "      <th>Power</th>\n",
       "      <th>Model</th>\n",
       "      <th>Mileage</th>\n",
       "      <th>FuelType</th>\n",
       "      <th>Brand</th>\n",
       "      <th>NotRepaired</th>\n",
       "      <th>PostalCode</th>\n",
       "      <th>RegistrationDate</th>\n",
       "    </tr>\n",
       "  </thead>\n",
       "  <tbody>\n",
       "    <tr>\n",
       "      <th>0</th>\n",
       "      <td>480</td>\n",
       "      <td>No Data Available</td>\n",
       "      <td>manual</td>\n",
       "      <td>0</td>\n",
       "      <td>golf</td>\n",
       "      <td>150000</td>\n",
       "      <td>petrol</td>\n",
       "      <td>volkswagen</td>\n",
       "      <td>No Data Available</td>\n",
       "      <td>70435</td>\n",
       "      <td>1993-09-01</td>\n",
       "    </tr>\n",
       "    <tr>\n",
       "      <th>15</th>\n",
       "      <td>450</td>\n",
       "      <td>small</td>\n",
       "      <td>No Data Available</td>\n",
       "      <td>0</td>\n",
       "      <td>ka</td>\n",
       "      <td>5000</td>\n",
       "      <td>petrol</td>\n",
       "      <td>ford</td>\n",
       "      <td>No Data Available</td>\n",
       "      <td>24148</td>\n",
       "      <td>1910-01-01</td>\n",
       "    </tr>\n",
       "    <tr>\n",
       "      <th>32</th>\n",
       "      <td>245</td>\n",
       "      <td>sedan</td>\n",
       "      <td>No Data Available</td>\n",
       "      <td>0</td>\n",
       "      <td>golf</td>\n",
       "      <td>150000</td>\n",
       "      <td>petrol</td>\n",
       "      <td>volkswagen</td>\n",
       "      <td>no</td>\n",
       "      <td>44145</td>\n",
       "      <td>1994-02-01</td>\n",
       "    </tr>\n",
       "    <tr>\n",
       "      <th>37</th>\n",
       "      <td>1500</td>\n",
       "      <td>No Data Available</td>\n",
       "      <td>No Data Available</td>\n",
       "      <td>0</td>\n",
       "      <td>kangoo</td>\n",
       "      <td>150000</td>\n",
       "      <td>gasoline</td>\n",
       "      <td>renault</td>\n",
       "      <td>no</td>\n",
       "      <td>46483</td>\n",
       "      <td>2016-01-01</td>\n",
       "    </tr>\n",
       "    <tr>\n",
       "      <th>40</th>\n",
       "      <td>0</td>\n",
       "      <td>No Data Available</td>\n",
       "      <td>No Data Available</td>\n",
       "      <td>0</td>\n",
       "      <td>corsa</td>\n",
       "      <td>150000</td>\n",
       "      <td>petrol</td>\n",
       "      <td>opel</td>\n",
       "      <td>No Data Available</td>\n",
       "      <td>56412</td>\n",
       "      <td>1990-01-01</td>\n",
       "    </tr>\n",
       "    <tr>\n",
       "      <th>...</th>\n",
       "      <td>...</td>\n",
       "      <td>...</td>\n",
       "      <td>...</td>\n",
       "      <td>...</td>\n",
       "      <td>...</td>\n",
       "      <td>...</td>\n",
       "      <td>...</td>\n",
       "      <td>...</td>\n",
       "      <td>...</td>\n",
       "      <td>...</td>\n",
       "      <td>...</td>\n",
       "    </tr>\n",
       "    <tr>\n",
       "      <th>354335</th>\n",
       "      <td>390</td>\n",
       "      <td>small</td>\n",
       "      <td>auto</td>\n",
       "      <td>0</td>\n",
       "      <td>corsa</td>\n",
       "      <td>100000</td>\n",
       "      <td>petrol</td>\n",
       "      <td>opel</td>\n",
       "      <td>yes</td>\n",
       "      <td>17509</td>\n",
       "      <td>1997-06-01</td>\n",
       "    </tr>\n",
       "    <tr>\n",
       "      <th>354338</th>\n",
       "      <td>180</td>\n",
       "      <td>No Data Available</td>\n",
       "      <td>No Data Available</td>\n",
       "      <td>0</td>\n",
       "      <td>No Data Available</td>\n",
       "      <td>125000</td>\n",
       "      <td>petrol</td>\n",
       "      <td>opel</td>\n",
       "      <td>No Data Available</td>\n",
       "      <td>41470</td>\n",
       "      <td>1995-03-01</td>\n",
       "    </tr>\n",
       "    <tr>\n",
       "      <th>354346</th>\n",
       "      <td>2600</td>\n",
       "      <td>No Data Available</td>\n",
       "      <td>auto</td>\n",
       "      <td>0</td>\n",
       "      <td>c_klasse</td>\n",
       "      <td>150000</td>\n",
       "      <td>No Data Available</td>\n",
       "      <td>mercedes_benz</td>\n",
       "      <td>No Data Available</td>\n",
       "      <td>61169</td>\n",
       "      <td>2005-09-01</td>\n",
       "    </tr>\n",
       "    <tr>\n",
       "      <th>354364</th>\n",
       "      <td>0</td>\n",
       "      <td>No Data Available</td>\n",
       "      <td>manual</td>\n",
       "      <td>0</td>\n",
       "      <td>colt</td>\n",
       "      <td>150000</td>\n",
       "      <td>petrol</td>\n",
       "      <td>mitsubishi</td>\n",
       "      <td>yes</td>\n",
       "      <td>2694</td>\n",
       "      <td>2005-07-01</td>\n",
       "    </tr>\n",
       "    <tr>\n",
       "      <th>354365</th>\n",
       "      <td>2200</td>\n",
       "      <td>No Data Available</td>\n",
       "      <td>No Data Available</td>\n",
       "      <td>0</td>\n",
       "      <td>No Data Available</td>\n",
       "      <td>20000</td>\n",
       "      <td>No Data Available</td>\n",
       "      <td>sonstige_autos</td>\n",
       "      <td>No Data Available</td>\n",
       "      <td>39576</td>\n",
       "      <td>2005-01-01</td>\n",
       "    </tr>\n",
       "  </tbody>\n",
       "</table>\n",
       "<p>35557 rows × 11 columns</p>\n",
       "</div>"
      ],
      "text/plain": [
       "        Price        VehicleType            Gearbox  Power              Model  \\\n",
       "0         480  No Data Available             manual      0               golf   \n",
       "15        450              small  No Data Available      0                 ka   \n",
       "32        245              sedan  No Data Available      0               golf   \n",
       "37       1500  No Data Available  No Data Available      0             kangoo   \n",
       "40          0  No Data Available  No Data Available      0              corsa   \n",
       "...       ...                ...                ...    ...                ...   \n",
       "354335    390              small               auto      0              corsa   \n",
       "354338    180  No Data Available  No Data Available      0  No Data Available   \n",
       "354346   2600  No Data Available               auto      0           c_klasse   \n",
       "354364      0  No Data Available             manual      0               colt   \n",
       "354365   2200  No Data Available  No Data Available      0  No Data Available   \n",
       "\n",
       "        Mileage           FuelType           Brand        NotRepaired  \\\n",
       "0        150000             petrol      volkswagen  No Data Available   \n",
       "15         5000             petrol            ford  No Data Available   \n",
       "32       150000             petrol      volkswagen                 no   \n",
       "37       150000           gasoline         renault                 no   \n",
       "40       150000             petrol            opel  No Data Available   \n",
       "...         ...                ...             ...                ...   \n",
       "354335   100000             petrol            opel                yes   \n",
       "354338   125000             petrol            opel  No Data Available   \n",
       "354346   150000  No Data Available   mercedes_benz  No Data Available   \n",
       "354364   150000             petrol      mitsubishi                yes   \n",
       "354365    20000  No Data Available  sonstige_autos  No Data Available   \n",
       "\n",
       "        PostalCode RegistrationDate  \n",
       "0            70435       1993-09-01  \n",
       "15           24148       1910-01-01  \n",
       "32           44145       1994-02-01  \n",
       "37           46483       2016-01-01  \n",
       "40           56412       1990-01-01  \n",
       "...            ...              ...  \n",
       "354335       17509       1997-06-01  \n",
       "354338       41470       1995-03-01  \n",
       "354346       61169       2005-09-01  \n",
       "354364        2694       2005-07-01  \n",
       "354365       39576       2005-01-01  \n",
       "\n",
       "[35557 rows x 11 columns]"
      ]
     },
     "execution_count": 183,
     "metadata": {},
     "output_type": "execute_result"
    }
   ],
   "source": [
    "df[df['Power'] == 0]"
   ]
  },
  {
   "cell_type": "markdown",
   "metadata": {},
   "source": [
    "Too many rows (+44,000) with 0 in the `Power` and `Price` columns so I will replace those 0s with the median since the data is skewed."
   ]
  },
  {
   "cell_type": "code",
   "execution_count": 184,
   "metadata": {},
   "outputs": [],
   "source": [
    "df['Price'] = df['Price'].replace(0, df['Price'].median())\n",
    "df['Power'] = df['Power'].replace(0, df['Power'].median())"
   ]
  },
  {
   "cell_type": "code",
   "execution_count": 185,
   "metadata": {},
   "outputs": [],
   "source": [
    "df = df[(df['Power']>50) & (df['Power']<800) & (df['Price']>100)]"
   ]
  },
  {
   "cell_type": "code",
   "execution_count": 186,
   "metadata": {},
   "outputs": [
    {
     "data": {
      "text/html": [
       "<div>\n",
       "<style scoped>\n",
       "    .dataframe tbody tr th:only-of-type {\n",
       "        vertical-align: middle;\n",
       "    }\n",
       "\n",
       "    .dataframe tbody tr th {\n",
       "        vertical-align: top;\n",
       "    }\n",
       "\n",
       "    .dataframe thead th {\n",
       "        text-align: right;\n",
       "    }\n",
       "</style>\n",
       "<table border=\"1\" class=\"dataframe\">\n",
       "  <thead>\n",
       "    <tr style=\"text-align: right;\">\n",
       "      <th></th>\n",
       "      <th>Price</th>\n",
       "      <th>Power</th>\n",
       "      <th>Mileage</th>\n",
       "      <th>PostalCode</th>\n",
       "      <th>RegistrationDate</th>\n",
       "    </tr>\n",
       "  </thead>\n",
       "  <tbody>\n",
       "    <tr>\n",
       "      <th>count</th>\n",
       "      <td>307108.000000</td>\n",
       "      <td>307108.000000</td>\n",
       "      <td>307108.000000</td>\n",
       "      <td>307108.000000</td>\n",
       "      <td>307108</td>\n",
       "    </tr>\n",
       "    <tr>\n",
       "      <th>mean</th>\n",
       "      <td>4638.246021</td>\n",
       "      <td>121.113221</td>\n",
       "      <td>128524.004585</td>\n",
       "      <td>50912.398651</td>\n",
       "      <td>2003-02-07 08:30:38.144236160</td>\n",
       "    </tr>\n",
       "    <tr>\n",
       "      <th>min</th>\n",
       "      <td>101.000000</td>\n",
       "      <td>51.000000</td>\n",
       "      <td>5000.000000</td>\n",
       "      <td>1067.000000</td>\n",
       "      <td>1910-01-01 00:00:00</td>\n",
       "    </tr>\n",
       "    <tr>\n",
       "      <th>25%</th>\n",
       "      <td>1300.000000</td>\n",
       "      <td>90.000000</td>\n",
       "      <td>125000.000000</td>\n",
       "      <td>30539.000000</td>\n",
       "      <td>1999-05-01 00:00:00</td>\n",
       "    </tr>\n",
       "    <tr>\n",
       "      <th>50%</th>\n",
       "      <td>2900.000000</td>\n",
       "      <td>105.000000</td>\n",
       "      <td>150000.000000</td>\n",
       "      <td>49681.000000</td>\n",
       "      <td>2003-05-01 00:00:00</td>\n",
       "    </tr>\n",
       "    <tr>\n",
       "      <th>75%</th>\n",
       "      <td>6500.000000</td>\n",
       "      <td>143.000000</td>\n",
       "      <td>150000.000000</td>\n",
       "      <td>71640.000000</td>\n",
       "      <td>2007-07-01 00:00:00</td>\n",
       "    </tr>\n",
       "    <tr>\n",
       "      <th>max</th>\n",
       "      <td>20000.000000</td>\n",
       "      <td>776.000000</td>\n",
       "      <td>150000.000000</td>\n",
       "      <td>99998.000000</td>\n",
       "      <td>2016-12-01 00:00:00</td>\n",
       "    </tr>\n",
       "    <tr>\n",
       "      <th>std</th>\n",
       "      <td>4498.278798</td>\n",
       "      <td>50.516588</td>\n",
       "      <td>37443.083134</td>\n",
       "      <td>25805.974039</td>\n",
       "      <td>NaN</td>\n",
       "    </tr>\n",
       "  </tbody>\n",
       "</table>\n",
       "</div>"
      ],
      "text/plain": [
       "               Price          Power        Mileage     PostalCode  \\\n",
       "count  307108.000000  307108.000000  307108.000000  307108.000000   \n",
       "mean     4638.246021     121.113221  128524.004585   50912.398651   \n",
       "min       101.000000      51.000000    5000.000000    1067.000000   \n",
       "25%      1300.000000      90.000000  125000.000000   30539.000000   \n",
       "50%      2900.000000     105.000000  150000.000000   49681.000000   \n",
       "75%      6500.000000     143.000000  150000.000000   71640.000000   \n",
       "max     20000.000000     776.000000  150000.000000   99998.000000   \n",
       "std      4498.278798      50.516588   37443.083134   25805.974039   \n",
       "\n",
       "                    RegistrationDate  \n",
       "count                         307108  \n",
       "mean   2003-02-07 08:30:38.144236160  \n",
       "min              1910-01-01 00:00:00  \n",
       "25%              1999-05-01 00:00:00  \n",
       "50%              2003-05-01 00:00:00  \n",
       "75%              2007-07-01 00:00:00  \n",
       "max              2016-12-01 00:00:00  \n",
       "std                              NaN  "
      ]
     },
     "execution_count": 186,
     "metadata": {},
     "output_type": "execute_result"
    }
   ],
   "source": [
    "df.describe()"
   ]
  },
  {
   "cell_type": "code",
   "execution_count": 187,
   "metadata": {},
   "outputs": [],
   "source": [
    "df_new = df.shape[0]"
   ]
  },
  {
   "cell_type": "code",
   "execution_count": 188,
   "metadata": {},
   "outputs": [
    {
     "name": "stdout",
     "output_type": "stream",
     "text": [
      "% of Data Lost in Transformation: 4.09%\n"
     ]
    }
   ],
   "source": [
    "perc_loss = (1 -(df_new/df_old)) * 100\n",
    "print(f\"% of Data Lost in Transformation: {perc_loss:.2f}%\")"
   ]
  },
  {
   "cell_type": "code",
   "execution_count": 189,
   "metadata": {},
   "outputs": [],
   "source": [
    "df['PostalCode'] = df['PostalCode'].astype(str)\n"
   ]
  },
  {
   "cell_type": "code",
   "execution_count": 190,
   "metadata": {},
   "outputs": [
    {
     "name": "stdout",
     "output_type": "stream",
     "text": [
      "<class 'pandas.core.frame.DataFrame'>\n",
      "Index: 307108 entries, 0 to 354368\n",
      "Data columns (total 11 columns):\n",
      " #   Column            Non-Null Count   Dtype         \n",
      "---  ------            --------------   -----         \n",
      " 0   Price             307108 non-null  int64         \n",
      " 1   VehicleType       307108 non-null  object        \n",
      " 2   Gearbox           307108 non-null  object        \n",
      " 3   Power             307108 non-null  int64         \n",
      " 4   Model             307108 non-null  object        \n",
      " 5   Mileage           307108 non-null  int64         \n",
      " 6   FuelType          307108 non-null  object        \n",
      " 7   Brand             307108 non-null  object        \n",
      " 8   NotRepaired       307108 non-null  object        \n",
      " 9   PostalCode        307108 non-null  object        \n",
      " 10  RegistrationDate  307108 non-null  datetime64[ns]\n",
      "dtypes: datetime64[ns](1), int64(3), object(7)\n",
      "memory usage: 28.1+ MB\n"
     ]
    }
   ],
   "source": [
    "df.info()"
   ]
  },
  {
   "cell_type": "code",
   "execution_count": 191,
   "metadata": {},
   "outputs": [
    {
     "data": {
      "text/html": [
       "<div>\n",
       "<style scoped>\n",
       "    .dataframe tbody tr th:only-of-type {\n",
       "        vertical-align: middle;\n",
       "    }\n",
       "\n",
       "    .dataframe tbody tr th {\n",
       "        vertical-align: top;\n",
       "    }\n",
       "\n",
       "    .dataframe thead th {\n",
       "        text-align: right;\n",
       "    }\n",
       "</style>\n",
       "<table border=\"1\" class=\"dataframe\">\n",
       "  <thead>\n",
       "    <tr style=\"text-align: right;\">\n",
       "      <th></th>\n",
       "      <th>Price</th>\n",
       "      <th>Power</th>\n",
       "      <th>Mileage</th>\n",
       "      <th>RegistrationDate</th>\n",
       "    </tr>\n",
       "  </thead>\n",
       "  <tbody>\n",
       "    <tr>\n",
       "      <th>count</th>\n",
       "      <td>307108.000000</td>\n",
       "      <td>307108.000000</td>\n",
       "      <td>307108.000000</td>\n",
       "      <td>307108</td>\n",
       "    </tr>\n",
       "    <tr>\n",
       "      <th>mean</th>\n",
       "      <td>4638.246021</td>\n",
       "      <td>121.113221</td>\n",
       "      <td>128524.004585</td>\n",
       "      <td>2003-02-07 08:30:38.144236160</td>\n",
       "    </tr>\n",
       "    <tr>\n",
       "      <th>min</th>\n",
       "      <td>101.000000</td>\n",
       "      <td>51.000000</td>\n",
       "      <td>5000.000000</td>\n",
       "      <td>1910-01-01 00:00:00</td>\n",
       "    </tr>\n",
       "    <tr>\n",
       "      <th>25%</th>\n",
       "      <td>1300.000000</td>\n",
       "      <td>90.000000</td>\n",
       "      <td>125000.000000</td>\n",
       "      <td>1999-05-01 00:00:00</td>\n",
       "    </tr>\n",
       "    <tr>\n",
       "      <th>50%</th>\n",
       "      <td>2900.000000</td>\n",
       "      <td>105.000000</td>\n",
       "      <td>150000.000000</td>\n",
       "      <td>2003-05-01 00:00:00</td>\n",
       "    </tr>\n",
       "    <tr>\n",
       "      <th>75%</th>\n",
       "      <td>6500.000000</td>\n",
       "      <td>143.000000</td>\n",
       "      <td>150000.000000</td>\n",
       "      <td>2007-07-01 00:00:00</td>\n",
       "    </tr>\n",
       "    <tr>\n",
       "      <th>max</th>\n",
       "      <td>20000.000000</td>\n",
       "      <td>776.000000</td>\n",
       "      <td>150000.000000</td>\n",
       "      <td>2016-12-01 00:00:00</td>\n",
       "    </tr>\n",
       "    <tr>\n",
       "      <th>std</th>\n",
       "      <td>4498.278798</td>\n",
       "      <td>50.516588</td>\n",
       "      <td>37443.083134</td>\n",
       "      <td>NaN</td>\n",
       "    </tr>\n",
       "  </tbody>\n",
       "</table>\n",
       "</div>"
      ],
      "text/plain": [
       "               Price          Power        Mileage  \\\n",
       "count  307108.000000  307108.000000  307108.000000   \n",
       "mean     4638.246021     121.113221  128524.004585   \n",
       "min       101.000000      51.000000    5000.000000   \n",
       "25%      1300.000000      90.000000  125000.000000   \n",
       "50%      2900.000000     105.000000  150000.000000   \n",
       "75%      6500.000000     143.000000  150000.000000   \n",
       "max     20000.000000     776.000000  150000.000000   \n",
       "std      4498.278798      50.516588   37443.083134   \n",
       "\n",
       "                    RegistrationDate  \n",
       "count                         307108  \n",
       "mean   2003-02-07 08:30:38.144236160  \n",
       "min              1910-01-01 00:00:00  \n",
       "25%              1999-05-01 00:00:00  \n",
       "50%              2003-05-01 00:00:00  \n",
       "75%              2007-07-01 00:00:00  \n",
       "max              2016-12-01 00:00:00  \n",
       "std                              NaN  "
      ]
     },
     "execution_count": 191,
     "metadata": {},
     "output_type": "execute_result"
    }
   ],
   "source": [
    "df.describe()"
   ]
  },
  {
   "cell_type": "code",
   "execution_count": null,
   "metadata": {},
   "outputs": [
    {
     "data": {
      "text/plain": [
       "(0.0, 1000.0)"
      ]
     },
     "execution_count": 192,
     "metadata": {},
     "output_type": "execute_result"
    },
    {
     "data": {
      "image/png": "[encoded data removed]",
      "text/plain": [
       "<Figure size 640x480 with 1 Axes>"
      ]
     },
     "metadata": {},
     "output_type": "display_data"
    }
   ],
   "source": [
    "df[['Power']].boxplot()\n",
    "plt.ylim(0,1000)"
   ]
  },
  {
   "cell_type": "markdown",
   "metadata": {},
   "source": [
    "## Model training"
   ]
  },
  {
   "cell_type": "markdown",
   "metadata": {},
   "source": [
    "After data cleaning, the next step should be Feature Engineering which is used mainly to encode the categorical columns. Since I'll try different models, i.e. linear regression models, tree based models and gradient boost models, I'll apply different encoding methods to fit the requests of training models\n",
    "\n",
    "| Model | Encoding requirements | Need scaling |\n",
    "| --    |   -- | -- |\n",
    "| Linear Regression | One-hot Encoding| Yes |\n",
    "| Decision Tree | One-hot Encoding | No |\n",
    "| Random Forest | One-hot Encoding| No |\n",
    "| LightGBM | No specific requirement| No |\n",
    "| CatBoost | No specific requirement | No|\n",
    "| XGBoost | One-hot Encoding | No |"
   ]
  },
  {
   "cell_type": "markdown",
   "metadata": {},
   "source": [
    "I will first look to see how many different unique values lie within the categorical columns"
   ]
  },
  {
   "cell_type": "code",
   "execution_count": 193,
   "metadata": {},
   "outputs": [
    {
     "name": "stdout",
     "output_type": "stream",
     "text": [
      "9\n",
      "3\n",
      "251\n",
      "8\n",
      "40\n",
      "3\n"
     ]
    }
   ],
   "source": [
    "categorical = ['VehicleType', 'Gearbox', 'Model', 'FuelType', 'Brand', 'NotRepaired']\n",
    "for column in categorical:\n",
    "    print(df[column].nunique())"
   ]
  },
  {
   "cell_type": "code",
   "execution_count": 194,
   "metadata": {},
   "outputs": [
    {
     "data": {
      "text/plain": [
       "20"
      ]
     },
     "execution_count": 194,
     "metadata": {},
     "output_type": "execute_result"
    }
   ],
   "source": [
    "df.duplicated().sum()"
   ]
  },
  {
   "cell_type": "code",
   "execution_count": 195,
   "metadata": {},
   "outputs": [],
   "source": [
    "df = df.drop_duplicates()"
   ]
  },
  {
   "cell_type": "markdown",
   "metadata": {},
   "source": [
    "I will now remove, non-relevant data when it pertains to training the model (`RegistrationDate`, `PostalCode`)."
   ]
  },
  {
   "cell_type": "code",
   "execution_count": 196,
   "metadata": {},
   "outputs": [],
   "source": [
    "df = df.drop(['RegistrationDate', 'PostalCode'], axis=1)"
   ]
  },
  {
   "cell_type": "markdown",
   "metadata": {},
   "source": [
    "## Model analysis"
   ]
  },
  {
   "cell_type": "markdown",
   "metadata": {},
   "source": [
    "#### One-hot Encoding for Decision Tree, Random Forest, Linear Regression and XGBoost"
   ]
  },
  {
   "cell_type": "code",
   "execution_count": 197,
   "metadata": {},
   "outputs": [],
   "source": [
    "preprocessor = ColumnTransformer(\n",
    "    transformers=[\n",
    "        ('ohe', OneHotEncoder(handle_unknown='ignore'), categorical)\n",
    "    ],\n",
    "    remainder='passthrough')"
   ]
  },
  {
   "cell_type": "code",
   "execution_count": 198,
   "metadata": {},
   "outputs": [],
   "source": [
    "# Split data into training and testing sets.\n",
    "X = df.drop(columns='Price')\n",
    "y = df['Price']\n",
    "X_train, X_temp, y_train, y_temp = train_test_split(X, y, test_size=0.3, random_state=11)\n",
    "X_valid, X_test, y_valid, y_test = train_test_split(X_temp, y_temp, test_size=0.5, random_state=11)"
   ]
  },
  {
   "cell_type": "code",
   "execution_count": 199,
   "metadata": {},
   "outputs": [
    {
     "name": "stdout",
     "output_type": "stream",
     "text": [
      "VehicleType    category\n",
      "Gearbox        category\n",
      "Power             int64\n",
      "Model          category\n",
      "Mileage           int64\n",
      "FuelType       category\n",
      "Brand          category\n",
      "NotRepaired    category\n",
      "dtype: object\n"
     ]
    }
   ],
   "source": [
    "cat_features = ['VehicleType', 'Gearbox', 'Model', 'FuelType', 'Brand', 'NotRepaired']\n",
    "\n",
    "# Convert categorical features to category dtype for LightGBM\n",
    "for col in cat_features:\n",
    "    if col in X_train.columns:\n",
    "        X_train[col] = X_train[col].astype('category')\n",
    "        X_test[col] = X_test[col].astype('category')\n",
    "        X_valid[col] = X_valid[col].astype('category')\n",
    "\n",
    "print(X_train.dtypes)  # Check again to confirm conversion"
   ]
  },
  {
   "cell_type": "markdown",
   "metadata": {},
   "source": [
    "Defined pipelines for each model:"
   ]
  },
  {
   "cell_type": "code",
   "execution_count": 200,
   "metadata": {},
   "outputs": [],
   "source": [
    "# Pipeline for Linear Regression\n",
    "pipeline_lr = Pipeline(steps=[\n",
    "    ('preprocessor', preprocessor),\n",
    "    ('regressor', LinearRegression())\n",
    "])\n",
    "\n",
    "# Pipeline for XGBoost\n",
    "pipeline_xgb = Pipeline(steps=[\n",
    "    ('preprocessor', preprocessor),\n",
    "    ('regressor', xgb.XGBRegressor(objective='reg:squarederror', random_state=11))\n",
    "])\n",
    "\n",
    "# Pipeline for Decision Tree\n",
    "pipeline_dt = Pipeline(steps=[\n",
    "    ('preprocessor', preprocessor),\n",
    "    ('regressor', DecisionTreeRegressor(random_state=11))\n",
    "])\n",
    "\n",
    "# Pipeline for Random Forest\n",
    "pipeline_rf = Pipeline(steps=[\n",
    "    ('preprocessor', preprocessor),\n",
    "    ('regressor', RandomForestRegressor(random_state=11))\n",
    "])\n",
    "\n",
    "# Pipeline for LightGBM\n",
    "pipeline_lgb = Pipeline(steps=[\n",
    "    ('preprocessor', preprocessor),\n",
    "    ('regressor', LGBMRegressor(n_estimators=500, learning_rate=0.1, random_state=11))\n",
    "])\n",
    "\n",
    "# Pipeline for CatBoost\n",
    "pipeline_cat = Pipeline(steps=[\n",
    "    ('preprocessor', preprocessor),\n",
    "    ('regressor', CatBoostRegressor(iterations=500, learning_rate=0.1, depth=6, verbose=0, random_seed=11))  # verbose=0 to suppress logs\n",
    "])"
   ]
  },
  {
   "cell_type": "markdown",
   "metadata": {},
   "source": [
    "Train and evaluate models:"
   ]
  },
  {
   "cell_type": "code",
   "execution_count": 201,
   "metadata": {},
   "outputs": [
    {
     "name": "stdout",
     "output_type": "stream",
     "text": [
      "Training Time for Decision Tree: 10.3741 seconds\n",
      "Prediction Time for Decision Tree: 0.0466 seconds\n",
      "MSE for Decision Tree: 6303718.13\n",
      "RMSE for Decision Tree: 2510.72\n",
      "\n",
      "Training Time for XGBoost: 0.6815 seconds\n",
      "Prediction Time for XGBoost: 0.0555 seconds\n",
      "MSE for XGBoost: 5470910.00\n",
      "RMSE for XGBoost: 2339.00\n",
      "\n",
      "Training Time for Linear Regression: 0.1918 seconds\n",
      "Prediction Time for Linear Regression: 0.0346 seconds\n",
      "MSE for Linear Regression: 9471880.28\n",
      "RMSE for Linear Regression: 3077.64\n",
      "\n",
      "[LightGBM] [Info] Auto-choosing row-wise multi-threading, the overhead of testing was 0.007431 seconds.\n",
      "You can set `force_row_wise=true` to remove the overhead.\n",
      "And if memory is not enough, you can set `force_col_wise=true`.\n",
      "[LightGBM] [Info] Total Bins 847\n",
      "[LightGBM] [Info] Number of data points in the train set: 214961, number of used features: 298\n",
      "[LightGBM] [Info] Start training from score 4643.986593\n",
      "Training Time for LightGBM: 2.3145 seconds\n"
     ]
    },
    {
     "name": "stderr",
     "output_type": "stream",
     "text": [
      "/opt/anaconda3/lib/python3.12/site-packages/sklearn/utils/validation.py:2739: UserWarning: X does not have valid feature names, but LGBMRegressor was fitted with feature names\n",
      "  warnings.warn(\n"
     ]
    },
    {
     "name": "stdout",
     "output_type": "stream",
     "text": [
      "Prediction Time for LightGBM: 0.2444 seconds\n",
      "MSE for LightGBM: 4863565.76\n",
      "RMSE for LightGBM: 2205.35\n",
      "\n",
      "Training Time for CatBoost: 2.9898 seconds\n",
      "Prediction Time for CatBoost: 0.0534 seconds\n",
      "MSE for CatBoost: 5501436.68\n",
      "RMSE for CatBoost: 2345.51\n",
      "\n"
     ]
    }
   ],
   "source": [
    "# Dictionary of models and their pipelines\n",
    "pipelines = {\n",
    "    \"Decision Tree\": pipeline_dt,\n",
    "    \"XGBoost\": pipeline_xgb,\n",
    "    \"Linear Regression\": pipeline_lr,\n",
    "    \"LightGBM\": pipeline_lgb,\n",
    "    \"CatBoost\": pipeline_cat\n",
    "}\n",
    "\n",
    "# Dictionary to store results\n",
    "results_list = []\n",
    "\n",
    "# Loop through each model\n",
    "for model_name, pipeline in pipelines.items():\n",
    "    # Training time\n",
    "    start_time = time.time()\n",
    "    pipeline.fit(X_train, y_train)\n",
    "    end_time = time.time()\n",
    "    training_times = end_time - start_time\n",
    "    print(f\"Training Time for {model_name}: {training_times:.4f} seconds\")\n",
    "    \n",
    "\n",
    "    # Prediction time\n",
    "    start_time = time.time()\n",
    "    y_pred = pipeline.predict(X_valid)\n",
    "    end_time = time.time()\n",
    "    prediction_times = end_time - start_time\n",
    "    print(f\"Prediction Time for {model_name}: {prediction_times:.4f} seconds\")\n",
    "    \n",
    "\n",
    "    # Mean Squared Error\n",
    "    mse_scores = mean_squared_error(y_valid, y_pred)\n",
    "    print(f\"MSE for {model_name}: {mse_scores:.2f}\")\n",
    "\n",
    "\n",
    "    # Root Mean Squared Error\n",
    "    rmse_scores = np.sqrt(mse_scores)\n",
    "    print(f\"RMSE for {model_name}: {rmse_scores:.2f}\")\n",
    "\n",
    "     # Append a new row (as a dictionary) to the list\n",
    "    results_list.append({\n",
    "        'Model': model_name,\n",
    "        'Training Time (s)': training_times,\n",
    "        'Prediction Time (s)': prediction_times,\n",
    "        'MSE': mse_scores,\n",
    "        'RMSE': rmse_scores\n",
    "    })\n",
    "    print()\n",
    "    \n",
    "   "
   ]
  },
  {
   "cell_type": "markdown",
   "metadata": {},
   "source": [
    "#### Random Forest (done separately because it takes so much time)"
   ]
  },
  {
   "cell_type": "code",
   "execution_count": 202,
   "metadata": {},
   "outputs": [
    {
     "name": "stdout",
     "output_type": "stream",
     "text": [
      "Training Time for Random Forest: 710.9565 seconds\n"
     ]
    }
   ],
   "source": [
    "start_time = time.time()\n",
    "\n",
    "# Training\n",
    "pipeline_rf.fit(X_train, y_train)\n",
    "\n",
    "end_time = time.time()\n",
    "\n",
    "# Calculate elapsed time\n",
    "training_time_rf = end_time - start_time\n",
    "\n",
    "# Print and store the time\n",
    "print(f\"Training Time for Random Forest: {training_time_rf:.4f} seconds\")"
   ]
  },
  {
   "cell_type": "code",
   "execution_count": 203,
   "metadata": {},
   "outputs": [
    {
     "name": "stdout",
     "output_type": "stream",
     "text": [
      "Prediction Time for Random Forest: 1.5086 seconds\n"
     ]
    }
   ],
   "source": [
    "start_time = time.time()\n",
    "\n",
    "# Predictions\n",
    "pred_rf = pipeline_rf.predict(X_valid)\n",
    "\n",
    "end_time = time.time()\n",
    "\n",
    "# Calculate elapsed time\n",
    "prediction_time_rf = end_time - start_time\n",
    "\n",
    "# Print and store the time\n",
    "print(f\"Prediction Time for Random Forest: {prediction_time_rf:.4f} seconds\")"
   ]
  },
  {
   "cell_type": "code",
   "execution_count": 204,
   "metadata": {},
   "outputs": [
    {
     "name": "stdout",
     "output_type": "stream",
     "text": [
      "Random Forest MSE: 4854416.286254172\n",
      "Random Fores RMSE: 2203.2739925515784\n"
     ]
    }
   ],
   "source": [
    "mse_rf = mean_squared_error(y_valid, pred_rf)\n",
    "rmse_rf = np.sqrt(mse_rf)\n",
    "print(\"Random Forest MSE:\", mse_rf)\n",
    "print('Random Fores RMSE:', rmse_rf)\n"
   ]
  },
  {
   "cell_type": "code",
   "execution_count": 205,
   "metadata": {},
   "outputs": [],
   "source": [
    "# Append Random Forest results\n",
    "results_list.append({\n",
    "    'Model': 'Random Forest',\n",
    "    'Training Time (s)': training_time_rf,\n",
    "    'Prediction Time (s)': prediction_time_rf,\n",
    "    'MSE': mse_rf,\n",
    "    'RMSE': rmse_rf\n",
    "})"
   ]
  },
  {
   "cell_type": "markdown",
   "metadata": {},
   "source": [
    "To save time, I commented out the Random Forest model. The model took 13 minutes to score."
   ]
  },
  {
   "cell_type": "code",
   "execution_count": 206,
   "metadata": {},
   "outputs": [],
   "source": [
    "# Random Forest MSE: 4854416.29\n",
    "# Random Forest RMSE: 2203.27"
   ]
  },
  {
   "cell_type": "markdown",
   "metadata": {},
   "source": [
    "#### Optimized CatBoost"
   ]
  },
  {
   "cell_type": "code",
   "execution_count": 207,
   "metadata": {},
   "outputs": [],
   "source": [
    "# Define the parameter grid for CatBoost\n",
    "param_dist = {\n",
    "    'iterations': [100, 500, 1000],  # Number of boosting rounds\n",
    "    'learning_rate': np.linspace(0.01, 0.3, 5),  # Learning rate values\n",
    "    'depth': [4, 6, 8, 10],  # Depth of trees\n",
    "    'l2_leaf_reg': [1, 3, 5, 7],  # L2 regularization\n",
    "    'border_count': [32, 64, 128],  # Number of splits for numerical features\n",
    "}\n",
    "\n",
    "# Initialize the CatBoost model\n",
    "cat_model = CatBoostRegressor(verbose=0)  # Suppress training logs\n",
    "\n",
    "# Set up the randomized search\n",
    "random_search = RandomizedSearchCV(\n",
    "    estimator=cat_model,\n",
    "    param_distributions=param_dist,\n",
    "    n_iter=10,  # Number of random samples to try\n",
    "    cv=3,  # Cross-validation folds\n",
    "    scoring='neg_mean_squared_error',\n",
    "    n_jobs=-1,  # Use all CPU cores\n",
    "    random_state=11\n",
    ")\n",
    "\n",
    "# Specify categorical features\n",
    "cat_features = ['VehicleType', 'Gearbox', 'Model', 'FuelType', 'Brand', 'NotRepaired']  "
   ]
  },
  {
   "cell_type": "code",
   "execution_count": 208,
   "metadata": {},
   "outputs": [
    {
     "name": "stdout",
     "output_type": "stream",
     "text": [
      "Training Time for Optimized CatBoost: 380.6467 seconds\n"
     ]
    }
   ],
   "source": [
    "start_time = time.time()\n",
    "\n",
    "# Training\n",
    "random_search.fit(X_train, y_train, cat_features=cat_features)\n",
    "\n",
    "end_time = time.time()\n",
    "\n",
    "# Calculate elapsed time\n",
    "training_time_op = end_time - start_time\n",
    "\n",
    "# Print and store the time\n",
    "print(f\"Training Time for Optimized CatBoost: {training_time_op:.4f} seconds\")\n"
   ]
  },
  {
   "cell_type": "code",
   "execution_count": null,
   "metadata": {},
   "outputs": [
    {
     "name": "stdout",
     "output_type": "stream",
     "text": [
      "Best Hyperparameters: {'learning_rate': 0.3, 'l2_leaf_reg': 7, 'iterations': 1000, 'depth': 8, 'border_count': 128}\n"
     ]
    }
   ],
   "source": [
    "# Best parameters found\n",
    "print(\"Best Hyperparameters:\", random_search.best_params_)"
   ]
  },
  {
   "cell_type": "code",
   "execution_count": null,
   "metadata": {},
   "outputs": [
    {
     "name": "stdout",
     "output_type": "stream",
     "text": [
      "Prediction Time for Optimized CatBoost: 0.1751 seconds\n"
     ]
    }
   ],
   "source": [
    "start_time = time.time()\n",
    "\n",
    "# Use the best model for predictions\n",
    "best_cat_model = random_search.best_estimator_\n",
    "y_pred_op = best_cat_model.predict(X_valid)\n",
    "\n",
    "end_time = time.time()\n",
    "\n",
    "# Calculate elapsed time\n",
    "prediction_time_op = end_time - start_time\n",
    "\n",
    "# Print and store the time\n",
    "print(f\"Prediction Time for Optimized CatBoost: {prediction_time_op:.4f} seconds\")\n"
   ]
  },
  {
   "cell_type": "code",
   "execution_count": null,
   "metadata": {},
   "outputs": [
    {
     "name": "stdout",
     "output_type": "stream",
     "text": [
      "CatBoost Optimized MSE: 4610910.29\n",
      "CatBoost Optimized RMSE: 2147.30\n"
     ]
    }
   ],
   "source": [
    "# Evaluating Optimized CatBoost\n",
    "cat_op_mse = mean_squared_error(y_valid, y_pred_op)\n",
    "cat_op_rmse = np.sqrt(cat_op_mse)\n",
    "\n",
    "print(f\"CatBoost Optimized MSE: {cat_op_mse:.2f}\")\n",
    "print(f\"CatBoost Optimized RMSE: {cat_op_rmse:.2f}\")"
   ]
  },
  {
   "cell_type": "code",
   "execution_count": null,
   "metadata": {},
   "outputs": [],
   "source": [
    "# Append Optimized CatBoost results\n",
    "results_list.append({\n",
    "    'Model': 'Optimized CatBoost',\n",
    "    'Training Time (s)': training_time_op,\n",
    "    'Prediction Time (s)': prediction_time_op,\n",
    "    'MSE': cat_op_mse,\n",
    "    'RMSE': cat_op_rmse\n",
    "})\n"
   ]
  },
  {
   "cell_type": "markdown",
   "metadata": {},
   "source": [
    "## Model Analysis"
   ]
  },
  {
   "cell_type": "code",
   "execution_count": null,
   "metadata": {},
   "outputs": [
    {
     "data": {
      "text/html": [
       "<div>\n",
       "<style scoped>\n",
       "    .dataframe tbody tr th:only-of-type {\n",
       "        vertical-align: middle;\n",
       "    }\n",
       "\n",
       "    .dataframe tbody tr th {\n",
       "        vertical-align: top;\n",
       "    }\n",
       "\n",
       "    .dataframe thead th {\n",
       "        text-align: right;\n",
       "    }\n",
       "</style>\n",
       "<table border=\"1\" class=\"dataframe\">\n",
       "  <thead>\n",
       "    <tr style=\"text-align: right;\">\n",
       "      <th></th>\n",
       "      <th>Model</th>\n",
       "      <th>Training Time (s)</th>\n",
       "      <th>Prediction Time (s)</th>\n",
       "      <th>RMSE</th>\n",
       "    </tr>\n",
       "  </thead>\n",
       "  <tbody>\n",
       "    <tr>\n",
       "      <th>0</th>\n",
       "      <td>Optimized CatBoost</td>\n",
       "      <td>6.246448</td>\n",
       "      <td>0.175053</td>\n",
       "      <td>2147.303026</td>\n",
       "    </tr>\n",
       "    <tr>\n",
       "      <th>1</th>\n",
       "      <td>Random Forest</td>\n",
       "      <td>12.593174</td>\n",
       "      <td>1.293481</td>\n",
       "      <td>2232.009330</td>\n",
       "    </tr>\n",
       "    <tr>\n",
       "      <th>2</th>\n",
       "      <td>LightGBM</td>\n",
       "      <td>0.031719</td>\n",
       "      <td>0.231723</td>\n",
       "      <td>2234.376017</td>\n",
       "    </tr>\n",
       "    <tr>\n",
       "      <th>3</th>\n",
       "      <td>XGBoost</td>\n",
       "      <td>0.009497</td>\n",
       "      <td>0.054779</td>\n",
       "      <td>2377.221067</td>\n",
       "    </tr>\n",
       "    <tr>\n",
       "      <th>4</th>\n",
       "      <td>CatBoost</td>\n",
       "      <td>0.049681</td>\n",
       "      <td>0.046770</td>\n",
       "      <td>2383.610687</td>\n",
       "    </tr>\n",
       "    <tr>\n",
       "      <th>5</th>\n",
       "      <td>Decision Tree</td>\n",
       "      <td>0.178579</td>\n",
       "      <td>0.046084</td>\n",
       "      <td>2544.106274</td>\n",
       "    </tr>\n",
       "    <tr>\n",
       "      <th>6</th>\n",
       "      <td>Linear Regression</td>\n",
       "      <td>0.003375</td>\n",
       "      <td>0.033917</td>\n",
       "      <td>3371.272964</td>\n",
       "    </tr>\n",
       "  </tbody>\n",
       "</table>\n",
       "</div>"
      ],
      "text/plain": [
       "                Model  Training Time (s)  Prediction Time (s)         RMSE\n",
       "0  Optimized CatBoost           6.246448             0.175053  2147.303026\n",
       "1       Random Forest          12.593174             1.293481  2232.009330\n",
       "2            LightGBM           0.031719             0.231723  2234.376017\n",
       "3             XGBoost           0.009497             0.054779  2377.221067\n",
       "4            CatBoost           0.049681             0.046770  2383.610687\n",
       "5       Decision Tree           0.178579             0.046084  2544.106274\n",
       "6   Linear Regression           0.003375             0.033917  3371.272964"
      ]
     },
     "execution_count": 109,
     "metadata": {},
     "output_type": "execute_result"
    }
   ],
   "source": [
    "results = pd.DataFrame(results_list)\n",
    "results = results.drop('MSE', axis=1)\n",
    "results['Training Time (s)'] = results['Training Time (s)'] / 60\n",
    "results = results.sort_values(by='RMSE').reset_index(drop=True)\n",
    "results"
   ]
  },
  {
   "cell_type": "markdown",
   "metadata": {},
   "source": [
    "Based on the \"results\" table, we can analyze the different models from both the quality and speed perspectives:\n",
    "\n",
    "* Quality Analysis:\n",
    "\n",
    "    1. **Linear Regression**: The model has the highest Root Mean Squared Error (RMSE) of 3371.27, indicating that its predictive accuracy passes the sanity check.\n",
    "    2. **Other Models**: Except the `Optimized CatBoost` obtain the metrics between 2232.01 to 2544.11. The worst among them is `DecisionTree` with RMSE is 2544.11, the best among them is `Random Forest` with RMSE is 2232.01.\n",
    "    3. **Optimized CatBoost**: The optimized CatBoost model further improves its performance, achieving an RMSE of 2147.30, making it the best-performing model among all the listed models.\n",
    "\n",
    "* Speed Analysis:\n",
    "\n",
    "    I seperated the prediction time out from the training time.\n",
    "\n",
    "    For training time, the `Random Forest` models take the longest training duration with about 13 minutes. `Optimized CatBoost` took about 6 minutes. Every other model trained in less than 1 second.\n",
    "\n",
    "    For prediction time, all models except `Random Forest` only take less than 1 second. The fastest model is `Linear Regression`, it only took 0.034 seconds. \n",
    "\n",
    "In summary, the `Optimized CatBoost` was most accurate. `LightGBM` was fairly close in accuracy AND trained 200x quicker but I will use Optimized CatBoost as the model to check the test data."
   ]
  },
  {
   "cell_type": "markdown",
   "metadata": {},
   "source": [
    "# **Optimized CatBoost is the model of choice, I will now apply it on the test set and use the parameters that I found to work best**"
   ]
  },
  {
   "cell_type": "markdown",
   "metadata": {},
   "source": [
    "Best Hyperparameters: {'learning_rate': 0.3, 'l2_leaf_reg': 7, 'iterations': 1000, 'depth': 8, 'border_count': 128}"
   ]
  },
  {
   "cell_type": "markdown",
   "metadata": {},
   "source": [
    "### Evaluating the model on the test set"
   ]
  },
  {
   "cell_type": "code",
   "execution_count": null,
   "metadata": {},
   "outputs": [
    {
     "name": "stdout",
     "output_type": "stream",
     "text": [
      "Optimized CatBoost Test RMSE: 2141.3890\n"
     ]
    }
   ],
   "source": [
    "# Define optimized CatBoost model with best hyperparameters\n",
    "optimized_catboost = CatBoostRegressor(\n",
    "    iterations=1000,  # Example values, replace with your optimized ones\n",
    "    learning_rate=0.3,\n",
    "    depth=8,\n",
    "    l2_leaf_reg=7,\n",
    "    random_seed=11,\n",
    "    verbose=0\n",
    ")\n",
    "\n",
    "# Fit the model on the full training data\n",
    "optimized_catboost.fit(X_train, y_train, cat_features=cat_features)\n",
    "\n",
    "# Predict on the test set\n",
    "y_test_pred = optimized_catboost.predict(X_test)\n",
    "\n",
    "# Evaluate performance using RMSE\n",
    "test_mse = mean_squared_error(y_test, y_test_pred)\n",
    "test_rmse = np.sqrt(test_mse)\n",
    "\n",
    "print(f\"Optimized CatBoost Test RMSE: {test_rmse:.4f}\")\n"
   ]
  },
  {
   "cell_type": "markdown",
   "metadata": {},
   "source": [
    "On the test set, `Optimized CatBoost` obtained a score of `2141.39`."
   ]
  },
  {
   "cell_type": "markdown",
   "metadata": {},
   "source": [
    "## Conclusion\n",
    "In this project, I evaluated multiple machine learning models, including Decision Tree, Random Forest, CatBoost, XGBoost, and LightGBM, to determine the best-performing model in terms of both speed and accuracy.\n",
    "\n",
    "From my initial tests, LightGBM and CatBoost emerged as a couple of the fastest models, making them strong candidates for deployment where computational efficiency is a priority. However, while they were fast, I wanted to explore whether hyperparameter tuning could further enhance their accuracy.\n",
    "\n",
    "After optimizing CatBoost using RandomizedSearchCV, I found that the optimized CatBoost model, its training time slowed, improved in accuracy, delivering a lower RMSE compared to the baseline version. This highlights the importance of hyperparameter tuning in maximizing model performance.\n",
    "\n",
    "Overall, the project demonstrated that Optimized CatBoost is an excellent choice for both speed and accuracy, making it the most effective model for my use case. Future work could explore ensemble methods or additional tuning to push performance even further."
   ]
  }
 ],
 "metadata": {
  "ExecuteTimeLog": [
   {
    "duration": 3198,
    "start_time": "2025-02-21T03:14:53.645Z"
   },
   {
    "duration": 3,
    "start_time": "2025-02-21T03:15:10.628Z"
   },
   {
    "duration": 454,
    "start_time": "2025-02-21T03:15:10.789Z"
   },
   {
    "duration": 14,
    "start_time": "2025-02-21T03:15:16.299Z"
   },
   {
    "duration": 103,
    "start_time": "2025-02-21T03:15:16.426Z"
   },
   {
    "duration": 28,
    "start_time": "2025-02-21T03:15:19.249Z"
   },
   {
    "duration": 6,
    "start_time": "2025-02-21T03:27:24.142Z"
   },
   {
    "duration": 7,
    "start_time": "2025-02-21T03:27:24.395Z"
   },
   {
    "duration": 102,
    "start_time": "2025-02-21T03:27:25.036Z"
   },
   {
    "duration": 33,
    "start_time": "2025-02-21T03:27:26.073Z"
   },
   {
    "duration": 5,
    "start_time": "2025-02-21T03:27:29.504Z"
   },
   {
    "duration": 7,
    "start_time": "2025-02-21T03:27:29.704Z"
   },
   {
    "duration": 11,
    "start_time": "2025-02-21T03:27:46.639Z"
   },
   {
    "duration": 6,
    "start_time": "2025-02-21T03:27:59.334Z"
   },
   {
    "duration": 35,
    "start_time": "2025-02-21T03:28:17.475Z"
   },
   {
    "duration": 2,
    "start_time": "2025-02-21T03:28:17.843Z"
   },
   {
    "duration": 64,
    "start_time": "2025-02-21T03:28:17.996Z"
   },
   {
    "duration": 60,
    "start_time": "2025-02-21T03:28:18.794Z"
   },
   {
    "duration": 159,
    "start_time": "2025-02-21T03:28:48.085Z"
   },
   {
    "duration": 306,
    "start_time": "2025-02-21T03:28:48.325Z"
   },
   {
    "duration": 42,
    "start_time": "2025-02-21T03:28:49.073Z"
   },
   {
    "duration": 15,
    "start_time": "2025-02-21T03:29:23.582Z"
   },
   {
    "duration": 33,
    "start_time": "2025-02-21T03:29:48.083Z"
   },
   {
    "duration": 34,
    "start_time": "2025-02-21T03:29:57.283Z"
   },
   {
    "duration": 114,
    "start_time": "2025-02-21T03:30:38.330Z"
   },
   {
    "duration": 78,
    "start_time": "2025-02-21T03:30:43.574Z"
   },
   {
    "duration": 3,
    "start_time": "2025-02-21T03:31:51.747Z"
   },
   {
    "duration": 118,
    "start_time": "2025-02-21T03:32:28.940Z"
   },
   {
    "duration": 4,
    "start_time": "2025-02-21T03:32:49.428Z"
   },
   {
    "duration": 4,
    "start_time": "2025-02-21T03:32:51.250Z"
   },
   {
    "duration": 3,
    "start_time": "2025-02-21T03:34:14.233Z"
   },
   {
    "duration": 2,
    "start_time": "2025-02-21T03:34:20.532Z"
   },
   {
    "duration": 5,
    "start_time": "2025-02-21T03:34:30.352Z"
   },
   {
    "duration": 220,
    "start_time": "2025-02-21T03:44:20.463Z"
   },
   {
    "duration": 22090,
    "start_time": "2025-02-21T03:44:49.046Z"
   },
   {
    "duration": 121,
    "start_time": "2025-02-21T03:45:11.139Z"
   },
   {
    "duration": 0,
    "start_time": "2025-02-21T03:45:11.263Z"
   },
   {
    "duration": 0,
    "start_time": "2025-02-21T03:45:11.264Z"
   },
   {
    "duration": 0,
    "start_time": "2025-02-21T03:45:11.266Z"
   },
   {
    "duration": 0,
    "start_time": "2025-02-21T03:45:11.267Z"
   },
   {
    "duration": 0,
    "start_time": "2025-02-21T03:45:11.268Z"
   },
   {
    "duration": 0,
    "start_time": "2025-02-21T03:45:11.270Z"
   },
   {
    "duration": 0,
    "start_time": "2025-02-21T03:45:11.271Z"
   },
   {
    "duration": 0,
    "start_time": "2025-02-21T03:45:11.309Z"
   },
   {
    "duration": 0,
    "start_time": "2025-02-21T03:45:11.310Z"
   },
   {
    "duration": 0,
    "start_time": "2025-02-21T03:45:11.312Z"
   },
   {
    "duration": 0,
    "start_time": "2025-02-21T03:45:11.313Z"
   },
   {
    "duration": 0,
    "start_time": "2025-02-21T03:45:11.315Z"
   },
   {
    "duration": 0,
    "start_time": "2025-02-21T03:45:11.316Z"
   },
   {
    "duration": 0,
    "start_time": "2025-02-21T03:45:11.317Z"
   },
   {
    "duration": 0,
    "start_time": "2025-02-21T03:45:11.319Z"
   },
   {
    "duration": 0,
    "start_time": "2025-02-21T03:45:11.320Z"
   },
   {
    "duration": 0,
    "start_time": "2025-02-21T03:45:11.321Z"
   },
   {
    "duration": 0,
    "start_time": "2025-02-21T03:45:11.322Z"
   },
   {
    "duration": 0,
    "start_time": "2025-02-21T03:45:11.323Z"
   },
   {
    "duration": 0,
    "start_time": "2025-02-21T03:45:11.324Z"
   },
   {
    "duration": 0,
    "start_time": "2025-02-21T03:45:11.325Z"
   },
   {
    "duration": 0,
    "start_time": "2025-02-21T03:45:11.326Z"
   },
   {
    "duration": 0,
    "start_time": "2025-02-21T03:45:11.327Z"
   },
   {
    "duration": 0,
    "start_time": "2025-02-21T03:45:11.328Z"
   },
   {
    "duration": 0,
    "start_time": "2025-02-21T03:45:11.329Z"
   },
   {
    "duration": 0,
    "start_time": "2025-02-21T03:45:11.331Z"
   },
   {
    "duration": 0,
    "start_time": "2025-02-21T03:45:11.332Z"
   },
   {
    "duration": 0,
    "start_time": "2025-02-21T03:45:11.333Z"
   },
   {
    "duration": 0,
    "start_time": "2025-02-21T03:45:11.334Z"
   },
   {
    "duration": 0,
    "start_time": "2025-02-21T03:45:11.335Z"
   },
   {
    "duration": 0,
    "start_time": "2025-02-21T03:45:11.336Z"
   },
   {
    "duration": 0,
    "start_time": "2025-02-21T03:45:11.337Z"
   },
   {
    "duration": 0,
    "start_time": "2025-02-21T03:45:11.338Z"
   },
   {
    "duration": 0,
    "start_time": "2025-02-21T03:45:11.340Z"
   },
   {
    "duration": 3,
    "start_time": "2025-02-21T03:45:14.816Z"
   },
   {
    "duration": 807,
    "start_time": "2025-02-21T03:45:14.836Z"
   },
   {
    "duration": 11,
    "start_time": "2025-02-21T03:45:15.645Z"
   },
   {
    "duration": 116,
    "start_time": "2025-02-21T03:45:15.658Z"
   },
   {
    "duration": 23,
    "start_time": "2025-02-21T03:45:16.066Z"
   },
   {
    "duration": 6,
    "start_time": "2025-02-21T03:45:16.500Z"
   },
   {
    "duration": 6,
    "start_time": "2025-02-21T03:45:16.707Z"
   },
   {
    "duration": 4,
    "start_time": "2025-02-21T03:45:16.940Z"
   },
   {
    "duration": 30,
    "start_time": "2025-02-21T03:45:17.155Z"
   },
   {
    "duration": 6,
    "start_time": "2025-02-21T03:45:17.501Z"
   },
   {
    "duration": 9,
    "start_time": "2025-02-21T03:45:17.603Z"
   },
   {
    "duration": 9,
    "start_time": "2025-02-21T03:45:17.958Z"
   },
   {
    "duration": 6,
    "start_time": "2025-02-21T03:45:18.053Z"
   },
   {
    "duration": 30,
    "start_time": "2025-02-21T03:45:19.406Z"
   },
   {
    "duration": 2,
    "start_time": "2025-02-21T03:45:19.556Z"
   },
   {
    "duration": 64,
    "start_time": "2025-02-21T03:45:19.635Z"
   },
   {
    "duration": 66,
    "start_time": "2025-02-21T03:45:20.088Z"
   },
   {
    "duration": 123,
    "start_time": "2025-02-21T03:45:20.576Z"
   },
   {
    "duration": 139,
    "start_time": "2025-02-21T03:45:21.305Z"
   },
   {
    "duration": 256,
    "start_time": "2025-02-21T03:45:21.704Z"
   },
   {
    "duration": 39,
    "start_time": "2025-02-21T03:45:22.023Z"
   },
   {
    "duration": 15,
    "start_time": "2025-02-21T03:45:22.374Z"
   },
   {
    "duration": 27,
    "start_time": "2025-02-21T03:45:23.156Z"
   },
   {
    "duration": 32,
    "start_time": "2025-02-21T03:45:23.352Z"
   },
   {
    "duration": 121,
    "start_time": "2025-02-21T03:45:25.565Z"
   },
   {
    "duration": 69,
    "start_time": "2025-02-21T03:45:28.095Z"
   },
   {
    "duration": 4,
    "start_time": "2025-02-21T03:45:29.574Z"
   },
   {
    "duration": 3049,
    "start_time": "2025-02-21T03:45:30.241Z"
   },
   {
    "duration": 3,
    "start_time": "2025-02-21T03:45:33.292Z"
   },
   {
    "duration": 12,
    "start_time": "2025-02-21T03:45:33.297Z"
   },
   {
    "duration": 3,
    "start_time": "2025-02-21T03:45:33.311Z"
   },
   {
    "duration": 3,
    "start_time": "2025-02-21T03:45:33.316Z"
   },
   {
    "duration": 6,
    "start_time": "2025-02-21T03:45:33.320Z"
   },
   {
    "duration": 1281,
    "start_time": "2025-02-21T03:45:55.165Z"
   },
   {
    "duration": 4,
    "start_time": "2025-02-21T03:45:57.516Z"
   },
   {
    "duration": 510,
    "start_time": "2025-02-21T03:45:57.676Z"
   },
   {
    "duration": 13,
    "start_time": "2025-02-21T03:45:58.384Z"
   },
   {
    "duration": 93,
    "start_time": "2025-02-21T03:45:58.413Z"
   },
   {
    "duration": 29,
    "start_time": "2025-02-21T03:45:58.729Z"
   },
   {
    "duration": 6,
    "start_time": "2025-02-21T03:45:58.854Z"
   },
   {
    "duration": 7,
    "start_time": "2025-02-21T03:45:58.916Z"
   },
   {
    "duration": 5,
    "start_time": "2025-02-21T03:45:58.980Z"
   },
   {
    "duration": 30,
    "start_time": "2025-02-21T03:45:59.043Z"
   },
   {
    "duration": 6,
    "start_time": "2025-02-21T03:45:59.154Z"
   },
   {
    "duration": 6,
    "start_time": "2025-02-21T03:45:59.187Z"
   },
   {
    "duration": 9,
    "start_time": "2025-02-21T03:46:00.080Z"
   },
   {
    "duration": 6,
    "start_time": "2025-02-21T03:46:00.127Z"
   },
   {
    "duration": 33,
    "start_time": "2025-02-21T03:46:00.221Z"
   },
   {
    "duration": 3,
    "start_time": "2025-02-21T03:46:00.256Z"
   },
   {
    "duration": 63,
    "start_time": "2025-02-21T03:46:00.286Z"
   },
   {
    "duration": 59,
    "start_time": "2025-02-21T03:46:00.351Z"
   },
   {
    "duration": 126,
    "start_time": "2025-02-21T03:46:01.134Z"
   },
   {
    "duration": 141,
    "start_time": "2025-02-21T03:46:01.714Z"
   },
   {
    "duration": 300,
    "start_time": "2025-02-21T03:46:01.858Z"
   },
   {
    "duration": 53,
    "start_time": "2025-02-21T03:46:02.160Z"
   },
   {
    "duration": 13,
    "start_time": "2025-02-21T03:46:02.215Z"
   },
   {
    "duration": 31,
    "start_time": "2025-02-21T03:46:02.230Z"
   },
   {
    "duration": 31,
    "start_time": "2025-02-21T03:46:03.116Z"
   },
   {
    "duration": 116,
    "start_time": "2025-02-21T03:46:04.735Z"
   },
   {
    "duration": 74,
    "start_time": "2025-02-21T03:46:06.257Z"
   },
   {
    "duration": 3,
    "start_time": "2025-02-21T03:46:07.000Z"
   },
   {
    "duration": 2690,
    "start_time": "2025-02-21T03:46:07.496Z"
   },
   {
    "duration": 4,
    "start_time": "2025-02-21T03:46:14.666Z"
   },
   {
    "duration": 3,
    "start_time": "2025-02-21T03:46:16.096Z"
   },
   {
    "duration": 3,
    "start_time": "2025-02-21T03:46:16.438Z"
   },
   {
    "duration": 3,
    "start_time": "2025-02-21T03:46:16.766Z"
   },
   {
    "duration": 4,
    "start_time": "2025-02-21T03:46:16.908Z"
   },
   {
    "duration": 1376,
    "start_time": "2025-02-25T08:59:53.691Z"
   },
   {
    "duration": 2,
    "start_time": "2025-02-25T09:00:02.733Z"
   },
   {
    "duration": 461,
    "start_time": "2025-02-25T09:00:03.060Z"
   },
   {
    "duration": 43550,
    "start_time": "2025-02-25T09:00:09.135Z"
   },
   {
    "duration": 147,
    "start_time": "2025-02-25T09:00:52.687Z"
   },
   {
    "duration": 118,
    "start_time": "2025-02-25T09:01:12.504Z"
   },
   {
    "duration": 15,
    "start_time": "2025-02-25T09:01:18.447Z"
   },
   {
    "duration": 1599,
    "start_time": "2025-02-25T09:01:59.052Z"
   },
   {
    "duration": 117,
    "start_time": "2025-02-25T09:02:01.824Z"
   },
   {
    "duration": 609,
    "start_time": "2025-02-25T09:02:05.186Z"
   },
   {
    "duration": 18,
    "start_time": "2025-02-25T09:02:08.960Z"
   },
   {
    "duration": 6127,
    "start_time": "2025-02-25T09:02:30.190Z"
   },
   {
    "duration": 1313,
    "start_time": "2025-02-25T09:02:36.319Z"
   },
   {
    "duration": 0,
    "start_time": "2025-02-25T09:02:37.635Z"
   },
   {
    "duration": 0,
    "start_time": "2025-02-25T09:02:37.636Z"
   },
   {
    "duration": 0,
    "start_time": "2025-02-25T09:02:37.638Z"
   },
   {
    "duration": 0,
    "start_time": "2025-02-25T09:02:37.640Z"
   },
   {
    "duration": 0,
    "start_time": "2025-02-25T09:02:37.641Z"
   },
   {
    "duration": 0,
    "start_time": "2025-02-25T09:02:37.642Z"
   },
   {
    "duration": 0,
    "start_time": "2025-02-25T09:02:37.643Z"
   },
   {
    "duration": 0,
    "start_time": "2025-02-25T09:02:37.644Z"
   },
   {
    "duration": 0,
    "start_time": "2025-02-25T09:02:37.645Z"
   },
   {
    "duration": 0,
    "start_time": "2025-02-25T09:02:37.646Z"
   },
   {
    "duration": 0,
    "start_time": "2025-02-25T09:02:37.647Z"
   },
   {
    "duration": 0,
    "start_time": "2025-02-25T09:02:37.648Z"
   },
   {
    "duration": 0,
    "start_time": "2025-02-25T09:02:37.649Z"
   },
   {
    "duration": 0,
    "start_time": "2025-02-25T09:02:37.650Z"
   },
   {
    "duration": 0,
    "start_time": "2025-02-25T09:02:37.651Z"
   },
   {
    "duration": 0,
    "start_time": "2025-02-25T09:02:37.652Z"
   },
   {
    "duration": 0,
    "start_time": "2025-02-25T09:02:37.653Z"
   },
   {
    "duration": 0,
    "start_time": "2025-02-25T09:02:37.655Z"
   },
   {
    "duration": 0,
    "start_time": "2025-02-25T09:02:37.656Z"
   },
   {
    "duration": 0,
    "start_time": "2025-02-25T09:02:37.658Z"
   },
   {
    "duration": 0,
    "start_time": "2025-02-25T09:02:37.659Z"
   },
   {
    "duration": 0,
    "start_time": "2025-02-25T09:02:37.661Z"
   },
   {
    "duration": 0,
    "start_time": "2025-02-25T09:02:37.662Z"
   },
   {
    "duration": 0,
    "start_time": "2025-02-25T09:02:37.664Z"
   },
   {
    "duration": 0,
    "start_time": "2025-02-25T09:02:37.705Z"
   },
   {
    "duration": 0,
    "start_time": "2025-02-25T09:02:37.706Z"
   },
   {
    "duration": 0,
    "start_time": "2025-02-25T09:02:37.708Z"
   },
   {
    "duration": 0,
    "start_time": "2025-02-25T09:02:37.709Z"
   },
   {
    "duration": 0,
    "start_time": "2025-02-25T09:02:37.710Z"
   },
   {
    "duration": 0,
    "start_time": "2025-02-25T09:02:37.711Z"
   },
   {
    "duration": 0,
    "start_time": "2025-02-25T09:02:37.712Z"
   },
   {
    "duration": 0,
    "start_time": "2025-02-25T09:02:37.714Z"
   },
   {
    "duration": 0,
    "start_time": "2025-02-25T09:02:37.715Z"
   },
   {
    "duration": 0,
    "start_time": "2025-02-25T09:02:37.716Z"
   },
   {
    "duration": 0,
    "start_time": "2025-02-25T09:02:37.716Z"
   },
   {
    "duration": 0,
    "start_time": "2025-02-25T09:02:37.718Z"
   },
   {
    "duration": 0,
    "start_time": "2025-02-25T09:02:37.719Z"
   },
   {
    "duration": 0,
    "start_time": "2025-02-25T09:02:37.720Z"
   },
   {
    "duration": 0,
    "start_time": "2025-02-25T09:02:37.721Z"
   },
   {
    "duration": 0,
    "start_time": "2025-02-25T09:02:37.722Z"
   },
   {
    "duration": 0,
    "start_time": "2025-02-25T09:02:37.723Z"
   },
   {
    "duration": 0,
    "start_time": "2025-02-25T09:02:37.724Z"
   },
   {
    "duration": 0,
    "start_time": "2025-02-25T09:02:37.725Z"
   },
   {
    "duration": 1,
    "start_time": "2025-02-25T09:02:37.726Z"
   },
   {
    "duration": 0,
    "start_time": "2025-02-25T09:02:37.728Z"
   },
   {
    "duration": 0,
    "start_time": "2025-02-25T09:02:37.730Z"
   },
   {
    "duration": 0,
    "start_time": "2025-02-25T09:02:37.731Z"
   },
   {
    "duration": 0,
    "start_time": "2025-02-25T09:02:37.733Z"
   },
   {
    "duration": 0,
    "start_time": "2025-02-25T09:02:37.733Z"
   },
   {
    "duration": 0,
    "start_time": "2025-02-25T09:02:37.735Z"
   },
   {
    "duration": 0,
    "start_time": "2025-02-25T09:02:37.736Z"
   },
   {
    "duration": 0,
    "start_time": "2025-02-25T09:02:37.737Z"
   },
   {
    "duration": 0,
    "start_time": "2025-02-25T09:02:37.739Z"
   },
   {
    "duration": 0,
    "start_time": "2025-02-25T09:02:37.740Z"
   },
   {
    "duration": 0,
    "start_time": "2025-02-25T09:02:37.742Z"
   },
   {
    "duration": 0,
    "start_time": "2025-02-25T09:02:37.806Z"
   },
   {
    "duration": 2899,
    "start_time": "2025-02-28T05:43:29.794Z"
   },
   {
    "duration": 2,
    "start_time": "2025-02-28T05:55:39.039Z"
   },
   {
    "duration": 9,
    "start_time": "2025-02-28T05:55:39.044Z"
   },
   {
    "duration": 2,
    "start_time": "2025-02-28T05:55:39.055Z"
   },
   {
    "duration": 479,
    "start_time": "2025-02-28T05:55:39.060Z"
   },
   {
    "duration": 15,
    "start_time": "2025-02-28T05:55:39.542Z"
   },
   {
    "duration": 96,
    "start_time": "2025-02-28T05:55:39.558Z"
   },
   {
    "duration": 20,
    "start_time": "2025-02-28T05:55:39.656Z"
   },
   {
    "duration": 19,
    "start_time": "2025-02-28T05:55:39.677Z"
   },
   {
    "duration": 53,
    "start_time": "2025-02-28T05:55:39.697Z"
   },
   {
    "duration": 7,
    "start_time": "2025-02-28T05:55:39.753Z"
   },
   {
    "duration": 6,
    "start_time": "2025-02-28T05:55:39.761Z"
   },
   {
    "duration": 132,
    "start_time": "2025-02-28T05:55:39.769Z"
   },
   {
    "duration": 3,
    "start_time": "2025-02-28T05:55:39.902Z"
   },
   {
    "duration": 4,
    "start_time": "2025-02-28T05:55:39.906Z"
   },
   {
    "duration": 5,
    "start_time": "2025-02-28T05:55:39.913Z"
   },
   {
    "duration": 6,
    "start_time": "2025-02-28T05:55:39.920Z"
   },
   {
    "duration": 8,
    "start_time": "2025-02-28T05:55:39.927Z"
   },
   {
    "duration": 6,
    "start_time": "2025-02-28T05:55:39.936Z"
   },
   {
    "duration": 23,
    "start_time": "2025-02-28T05:55:39.943Z"
   },
   {
    "duration": 3,
    "start_time": "2025-02-28T05:55:39.968Z"
   },
   {
    "duration": 72,
    "start_time": "2025-02-28T05:55:39.972Z"
   },
   {
    "duration": 56,
    "start_time": "2025-02-28T05:55:40.046Z"
   },
   {
    "duration": 129,
    "start_time": "2025-02-28T05:55:40.103Z"
   },
   {
    "duration": 124,
    "start_time": "2025-02-28T05:55:40.234Z"
   },
   {
    "duration": 247,
    "start_time": "2025-02-28T05:55:40.362Z"
   },
   {
    "duration": 47,
    "start_time": "2025-02-28T05:55:40.611Z"
   },
   {
    "duration": 14,
    "start_time": "2025-02-28T05:55:40.660Z"
   },
   {
    "duration": 28,
    "start_time": "2025-02-28T05:55:40.676Z"
   },
   {
    "duration": 147,
    "start_time": "2025-02-28T05:55:40.706Z"
   },
   {
    "duration": 55,
    "start_time": "2025-02-28T05:55:40.855Z"
   },
   {
    "duration": 3,
    "start_time": "2025-02-28T05:55:40.912Z"
   },
   {
    "duration": 120,
    "start_time": "2025-02-28T05:55:40.918Z"
   },
   {
    "duration": 14,
    "start_time": "2025-02-28T05:55:51.355Z"
   },
   {
    "duration": 2,
    "start_time": "2025-03-01T02:53:50.957Z"
   },
   {
    "duration": 2970,
    "start_time": "2025-03-01T02:53:50.962Z"
   },
   {
    "duration": 2,
    "start_time": "2025-03-01T02:53:53.934Z"
   },
   {
    "duration": 472,
    "start_time": "2025-03-01T02:53:53.938Z"
   },
   {
    "duration": 13,
    "start_time": "2025-03-01T02:53:54.413Z"
   },
   {
    "duration": 100,
    "start_time": "2025-03-01T02:53:54.428Z"
   },
   {
    "duration": 18,
    "start_time": "2025-03-01T02:53:54.530Z"
   },
   {
    "duration": 37,
    "start_time": "2025-03-01T02:53:54.550Z"
   },
   {
    "duration": 29,
    "start_time": "2025-03-01T02:53:54.589Z"
   },
   {
    "duration": 5,
    "start_time": "2025-03-01T02:53:54.620Z"
   },
   {
    "duration": 5,
    "start_time": "2025-03-01T02:53:54.628Z"
   },
   {
    "duration": 54,
    "start_time": "2025-03-01T02:53:54.635Z"
   },
   {
    "duration": 3,
    "start_time": "2025-03-01T02:53:54.691Z"
   },
   {
    "duration": 3,
    "start_time": "2025-03-01T02:53:54.695Z"
   },
   {
    "duration": 6,
    "start_time": "2025-03-01T02:53:54.700Z"
   },
   {
    "duration": 7,
    "start_time": "2025-03-01T02:53:54.707Z"
   },
   {
    "duration": 7,
    "start_time": "2025-03-01T02:53:54.716Z"
   },
   {
    "duration": 5,
    "start_time": "2025-03-01T02:53:54.725Z"
   },
   {
    "duration": 58,
    "start_time": "2025-03-01T02:53:54.732Z"
   },
   {
    "duration": 3,
    "start_time": "2025-03-01T02:53:54.792Z"
   },
   {
    "duration": 60,
    "start_time": "2025-03-01T02:53:54.797Z"
   },
   {
    "duration": 69,
    "start_time": "2025-03-01T02:53:54.860Z"
   },
   {
    "duration": 135,
    "start_time": "2025-03-01T02:53:54.931Z"
   },
   {
    "duration": 141,
    "start_time": "2025-03-01T02:53:55.068Z"
   },
   {
    "duration": 238,
    "start_time": "2025-03-01T02:53:55.211Z"
   },
   {
    "duration": 47,
    "start_time": "2025-03-01T02:53:55.451Z"
   },
   {
    "duration": 12,
    "start_time": "2025-03-01T02:53:55.500Z"
   },
   {
    "duration": 3,
    "start_time": "2025-03-01T02:53:55.514Z"
   },
   {
    "duration": 141,
    "start_time": "2025-03-01T02:54:55.691Z"
   },
   {
    "duration": 268,
    "start_time": "2025-03-01T02:55:04.262Z"
   },
   {
    "duration": 232,
    "start_time": "2025-03-01T02:55:16.193Z"
   }
  ],
  "kernelspec": {
   "display_name": "python311",
   "language": "python",
   "name": "python3"
  },
  "language_info": {
   "codemirror_mode": {
    "name": "ipython",
    "version": 3
   },
   "file_extension": ".py",
   "mimetype": "text/x-python",
   "name": "python",
   "nbconvert_exporter": "python",
   "pygments_lexer": "ipython3",
   "version": "3.11.11"
  },
  "toc": {
   "base_numbering": 1,
   "nav_menu": {},
   "number_sections": true,
   "sideBar": true,
   "skip_h1_title": true,
   "title_cell": "Table of Contents",
   "title_sidebar": "Contents",
   "toc_cell": false,
   "toc_position": {
    "height": "calc(100% - 180px)",
    "left": "10px",
    "top": "150px",
    "width": "233.6px"
   },
   "toc_section_display": true,
   "toc_window_display": true
  }
 },
 "nbformat": 4,
 "nbformat_minor": 2
}
